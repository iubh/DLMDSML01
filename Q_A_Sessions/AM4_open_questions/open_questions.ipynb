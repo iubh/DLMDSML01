{
 "cells": [
  {
   "cell_type": "markdown",
   "metadata": {},
   "source": [
    "# Open Questions"
   ]
  },
  {
   "cell_type": "markdown",
   "metadata": {},
   "source": [
    "**Not all questions are required for the exam!**"
   ]
  },
  {
   "cell_type": "markdown",
   "metadata": {},
   "source": [
    "# Preamble"
   ]
  },
  {
   "cell_type": "code",
   "execution_count": 1,
   "metadata": {
    "ExecuteTime": {
     "end_time": "2021-05-18T16:50:49.865875Z",
     "start_time": "2021-05-18T16:50:49.223746Z"
    }
   },
   "outputs": [],
   "source": [
    "# Common imports\n",
    "import numpy as np # numpy is THE toolbox for scientific computing with python\n",
    "import pandas as pd # pandas provides THE data structure and data analysis tools for data scientists \n",
    "\n",
    "# maximum number of columns\n",
    "pd.set_option(\"display.max_rows\", 101)\n",
    "pd.set_option(\"display.max_columns\", 101)\n",
    "\n",
    "# To plot pretty figures\n",
    "%matplotlib inline\n",
    "import matplotlib as mpl\n",
    "import matplotlib.pyplot as plt\n",
    "mpl.rc('axes', labelsize=14)\n",
    "mpl.rc('xtick', labelsize=12)\n",
    "mpl.rc('ytick', labelsize=12)\n",
    "\n",
    "from warnings import filterwarnings\n",
    "filterwarnings('ignore')"
   ]
  },
  {
   "cell_type": "markdown",
   "metadata": {},
   "source": [
    "# Introduction to Machine Learning"
   ]
  },
  {
   "cell_type": "markdown",
   "metadata": {},
   "source": [
    "Question 1: Describe the difference between supervised, semi-supervised, unsupervised learning. "
   ]
  },
  {
   "cell_type": "markdown",
   "metadata": {},
   "source": [
    "Answer 1: Supervised learning algorithms learn from a training set of labeled examples. The aim is to generalize the result to the set of possible future inputs. Examples are: logistic regression, support vector machines, decision trees, random forests.\n",
    "\n",
    "Unsupervised learning algorithms learn from a training set of unlabeled examples. It is often used to explore data according to some similarity estimation. (answer from Igual & Segui)\n",
    "\n",
    "In Semi-supervised learning..."
   ]
  },
  {
   "cell_type": "markdown",
   "metadata": {},
   "source": [
    "Question 2: How does reinforcement learning work?"
   ]
  },
  {
   "cell_type": "markdown",
   "metadata": {
    "ExecuteTime": {
     "end_time": "2021-08-10T15:58:27.410034Z",
     "start_time": "2021-08-10T15:58:27.405070Z"
    }
   },
   "source": [
    "Question 3: Mention five typical performance metrics for classification tasks."
   ]
  },
  {
   "cell_type": "markdown",
   "metadata": {
    "ExecuteTime": {
     "end_time": "2021-08-22T09:04:03.325871Z",
     "start_time": "2021-08-22T09:04:03.320872Z"
    }
   },
   "source": [
    "Answer 3: Accuracy score, F1 score, AUC, ..."
   ]
  },
  {
   "cell_type": "markdown",
   "metadata": {},
   "source": [
    "Question 4: Explain the confusion matrix."
   ]
  },
  {
   "cell_type": "markdown",
   "metadata": {},
   "source": [
    "Question 5: Why is it in many cases better to use the MSE instead of the MAE?"
   ]
  },
  {
   "cell_type": "markdown",
   "metadata": {},
   "source": [
    "Answer: The MSE error \\begin{equation}\n",
    "MSE = \\frac{1}{N} \\sum_{i=1}^{N} \\left( y_i - \\hat{y}_i \\right)^2\n",
    "\\end{equation}\n",
    "punishes large derivations more than the MAE\n",
    "\\begin{equation}\n",
    "MAE = \\frac{1}{N} \\sum_{i=1}^{N} | y_i - \\hat{y}_i |\n",
    "\\end{equation}\n",
    "therefore it is better suited for all applications where larger deviations from the true outcome should be avoided."
   ]
  },
  {
   "cell_type": "markdown",
   "metadata": {
    "ExecuteTime": {
     "end_time": "2021-08-22T09:52:12.578786Z",
     "start_time": "2021-08-22T09:52:12.572779Z"
    }
   },
   "source": [
    "Question 6: Look at the following picture of a linear regression error with regularization parameter C.\n",
    "        \n",
    "<div>\n",
    "<img src=\"train_test_error.png\" width=\"600\"/>\n",
    "</div> \n",
    "\n",
    "Which line most likely refers to the train error, the blue or red one? Explain your choice. "
   ]
  },
  {
   "cell_type": "markdown",
   "metadata": {
    "ExecuteTime": {
     "end_time": "2021-08-10T16:00:57.515545Z",
     "start_time": "2021-08-10T16:00:57.510580Z"
    }
   },
   "source": [
    "Question: Name five different machine learning models suitable to tackle regression tasks. "
   ]
  },
  {
   "cell_type": "markdown",
   "metadata": {},
   "source": [
    "Question: Give an overview on traditional clustering algorithms."
   ]
  },
  {
   "cell_type": "markdown",
   "metadata": {},
   "source": [
    "Question: Describe the typical phases of a machine learning project."
   ]
  },
  {
   "cell_type": "markdown",
   "metadata": {},
   "source": [
    "Question: How would you design a machine learning project that should forecast the short-term revenue of an online business?"
   ]
  },
  {
   "cell_type": "markdown",
   "metadata": {},
   "source": [
    "Question: Discuss main challenges when creating a machine learning model. "
   ]
  },
  {
   "cell_type": "markdown",
   "metadata": {},
   "source": [
    "# Clustering Algorithms"
   ]
  },
  {
   "cell_type": "markdown",
   "metadata": {},
   "source": [
    "Question: How would you define clustering? Can you name a few clustering algorithms?"
   ]
  },
  {
   "cell_type": "markdown",
   "metadata": {
    "ExecuteTime": {
     "end_time": "2021-09-20T06:34:27.483915Z",
     "start_time": "2021-09-20T06:34:27.477950Z"
    }
   },
   "source": [
    "Question: What are some of the main applications of clustering algorithms?"
   ]
  },
  {
   "cell_type": "markdown",
   "metadata": {},
   "source": [
    "Question: Explain the hyperparameters used in DBSCAN. "
   ]
  },
  {
   "cell_type": "markdown",
   "metadata": {},
   "source": [
    "Question: Explain how to optimize the k-Means Clustering objective function?"
   ]
  },
  {
   "cell_type": "markdown",
   "metadata": {},
   "source": [
    "Question: Which is the basic idea of a Gaussian mixture model? Explain how the standard deviation and covariance matrix are connected with each other. What tasks can you use a Gaussian Mixture Model for?"
   ]
  },
  {
   "cell_type": "markdown",
   "metadata": {
    "ExecuteTime": {
     "end_time": "2021-09-19T17:12:48.112633Z",
     "start_time": "2021-09-19T17:12:48.106632Z"
    }
   },
   "source": [
    "Answer: We compute $p(z_i = k|x_i, θ)$, which represents the posterior probability that point\n",
    "i belongs to cluster k. This is known as the responsibility of cluster k for point i..."
   ]
  },
  {
   "cell_type": "markdown",
   "metadata": {
    "ExecuteTime": {
     "end_time": "2021-09-19T17:19:41.926347Z",
     "start_time": "2021-09-19T17:19:41.915356Z"
    }
   },
   "source": [
    "Question: Explain the basic idea of the Expectation-Maximization algorithm."
   ]
  },
  {
   "cell_type": "markdown",
   "metadata": {
    "ExecuteTime": {
     "end_time": "2021-09-19T17:20:20.633823Z",
     "start_time": "2021-09-19T17:20:20.624793Z"
    }
   },
   "source": [
    "*Answer: The estimation–maximization (EM) algorithm facilitates parameter estimation in probabilistic models\n",
    "with incomplete data. EM is an iterative scheme that estimates the MLE or MAP of parameters in statistical\n",
    "models, in the presence of hidden or latent variables. The EM algorithm iteratively alternates between the\n",
    "steps of performing an expectation (E), which creates a function that estimates the probability distribution\n",
    "over possible completions of the missing (unobserved) data, using the current estimate for the parameters,\n",
    "and performing a maximization (M), which re-estimates the parameters, using the current completions\n",
    "performed during the E step. These parameter estimates are iteratively employed to estimate the distribution\n",
    "of the hidden variables in the subsequent E step. In general, EM involves running an iterative algorithm\n",
    "with the following attributes: (a) observed data, $X$; (b) latent (or missing) data, $Z$; (c) unknown parameter, $q$;\n",
    "and (d) a likelihood function, $L(q; X, Z) = P(X, Z|q)$.*"
   ]
  },
  {
   "cell_type": "markdown",
   "metadata": {},
   "source": [
    "# Regression"
   ]
  },
  {
   "cell_type": "markdown",
   "metadata": {
    "ExecuteTime": {
     "end_time": "2021-09-21T16:14:50.683660Z",
     "start_time": "2021-09-21T16:14:50.628609Z"
    }
   },
   "source": [
    "Question: List five different real-world applications of regression tasks."
   ]
  },
  {
   "cell_type": "markdown",
   "metadata": {},
   "source": [
    "Question: Is it possible to reformulate a regression taks as a classification task. How would you do it practically?"
   ]
  },
  {
   "cell_type": "markdown",
   "metadata": {
    "ExecuteTime": {
     "end_time": "2021-09-21T16:38:43.987567Z",
     "start_time": "2021-09-21T16:38:43.971567Z"
    }
   },
   "source": [
    "Question : Look at the following picture generated with a Lasso regularized model. Can you explain the following plot?\n",
    "<div>\n",
    "<img src=\"regularization_plot.png\" width=\"600\"/>\n",
    "</div>"
   ]
  },
  {
   "cell_type": "markdown",
   "metadata": {},
   "source": [
    "Question: How is linear regression connected to Gaussian distributions? "
   ]
  },
  {
   "cell_type": "markdown",
   "metadata": {},
   "source": [
    "Question: Explain the likelihood function and maximum likelihood estimation."
   ]
  },
  {
   "cell_type": "markdown",
   "metadata": {},
   "source": [
    "Question: Explain the objective function of logistic regression. Explain how the minimum of the logistic regression objectiv function can be found."
   ]
  },
  {
   "cell_type": "markdown",
   "metadata": {},
   "source": [
    "# Support Vector Machines"
   ]
  },
  {
   "cell_type": "markdown",
   "metadata": {},
   "source": [
    "Question: The optimization problem of SVCs is to minimize the objective function $J(\\omega) = \\frac{1}{2} ||\\omega||^2$ subject to the constraint $y_i \\left(\\omega_i^T x + b \\right) \\geq 1$. How is the SVM optimization problem written in its dual form?"
   ]
  },
  {
   "cell_type": "markdown",
   "metadata": {},
   "source": [
    "Question: Describe the difference between hard-margin and soft-margin classification. How does the slack variable $\\xi$ enter the objective function? How does the regularization parameter $C$ enter the objective function?"
   ]
  },
  {
   "cell_type": "markdown",
   "metadata": {
    "ExecuteTime": {
     "end_time": "2021-06-08T05:02:25.714710Z",
     "start_time": "2021-06-08T05:02:25.707707Z"
    }
   },
   "source": [
    "Question: Look at the following plot:\n",
    "    \n",
    "<div>\n",
    "<img src=\"efficient_learning_machines_SVM_C.png\" width=\"300\"/>\n",
    "</div>\n",
    "\n",
    "Describe how the regularization parameter $C$ changes the separating hyperplane in this dataset."
   ]
  },
  {
   "cell_type": "markdown",
   "metadata": {},
   "source": [
    "Question: Say you trained an SVM classifier with an RBF kernel. It seems to underfit the training set: should you increase or decrease $\\gamma$? What about $C$?"
   ]
  },
  {
   "cell_type": "markdown",
   "metadata": {
    "ExecuteTime": {
     "end_time": "2021-06-08T04:47:59.458484Z",
     "start_time": "2021-06-08T04:47:59.453484Z"
    }
   },
   "source": [
    "Question: Let us consider a polynomial kernel $K(\\vec{x}, \\vec{x}') = \\left( \\vec{x} \\cdot \\vec{x}' + 1 \\right)^d$. The kernel trick assumes that $K(\\vec{x}, \\vec{x}') = \\phi^T(\\vec{x}) \\cdot \\phi(\\vec{x}')$. Calculate $\\phi$ for a polynomial kernel with $d=2$ and two features $x_1$ and $x_2$."
   ]
  },
  {
   "cell_type": "markdown",
   "metadata": {},
   "source": [
    "Question: Why should we use the kernel trick for adding polynomials to a SVM instead of just adding the polynomials to the feature space?"
   ]
  },
  {
   "cell_type": "markdown",
   "metadata": {},
   "source": [
    "Question: Describe the main strengths and weaknesses of using SVMs for classification tasks."
   ]
  },
  {
   "cell_type": "markdown",
   "metadata": {
    "ExecuteTime": {
     "end_time": "2021-06-08T06:25:55.365496Z",
     "start_time": "2021-06-08T06:25:55.354496Z"
    }
   },
   "source": [
    "Question: How does a Support Vector Regression change with increasing $\\epsilon$-parameter?"
   ]
  },
  {
   "cell_type": "markdown",
   "metadata": {},
   "source": [
    "Question: Let us use a degree two polynomial kernel with regularization C and $\\epsilon = 0.1$ Which of the two fits uses higher C-value? \n",
    "\n",
    "<div>\n",
    "<img src=\"support_vector_regression_C.png\" width=\"800\"/>\n",
    "</div>"
   ]
  },
  {
   "cell_type": "markdown",
   "metadata": {},
   "source": [
    "# Decision Trees"
   ]
  },
  {
   "cell_type": "markdown",
   "metadata": {},
   "source": [
    "Question: List the main benefits and main disadvantages of using decision trees?"
   ]
  },
  {
   "cell_type": "markdown",
   "metadata": {
    "ExecuteTime": {
     "end_time": "2021-06-22T13:59:16.373612Z",
     "start_time": "2021-06-22T13:59:16.360615Z"
    }
   },
   "source": [
    "Question: Look at the following decision tree of splitting the Iris dataset with features petal length (0) and petal width (1). Calculate the entropy for all depth-1 nodes.\n",
    "\n",
    "**under construction**\n",
    "\n",
    "<div>\n",
    "<img src=\"decision_tree.png\" width=\"400\"/>\n",
    "</div>"
   ]
  },
  {
   "cell_type": "markdown",
   "metadata": {},
   "source": [
    "Question: Look at the following data set:\n",
    "\n",
    "<div>\n",
    "<img src=\"data_set_decision_tree.png\" width=\"400\"/>\n",
    "</div>\n",
    "\n",
    "*    Compute the Gini index for the **Customer ID** and the **Gender** column.\n",
    "*    Which attribute - **Gender**, **Car Type**, **Shirt Size** - is better suited for splitting?"
   ]
  },
  {
   "cell_type": "markdown",
   "metadata": {
    "ExecuteTime": {
     "end_time": "2021-06-22T14:14:41.584989Z",
     "start_time": "2021-06-22T14:14:41.575994Z"
    }
   },
   "source": [
    "Question: Look at the following data set:\n",
    "\n",
    "<div>\n",
    "<img src=\"data_set_2_decision_tree.png\" width=\"400\"/>\n",
    "</div>\n",
    "\n",
    "Which is the best split according to information gain?"
   ]
  },
  {
   "cell_type": "markdown",
   "metadata": {},
   "source": [
    "Question: Describe the ID3 algorithm."
   ]
  },
  {
   "cell_type": "markdown",
   "metadata": {},
   "source": [
    "Question: How is the bias-variance tradeoff related to the maximum depth of a decision tree."
   ]
  },
  {
   "cell_type": "markdown",
   "metadata": {},
   "source": [
    "Question: Describe how pruning works."
   ]
  },
  {
   "cell_type": "markdown",
   "metadata": {},
   "source": [
    "Question: Describe the cost function and optimization of a decision tree regression algorithm."
   ]
  },
  {
   "cell_type": "markdown",
   "metadata": {},
   "source": [
    "# Ensemble Methods & Random Forests"
   ]
  },
  {
   "cell_type": "markdown",
   "metadata": {},
   "source": [
    "Question: Compare the bias variance trade-off for decision trees and random forests."
   ]
  },
  {
   "cell_type": "markdown",
   "metadata": {},
   "source": [
    "Question: What is meant by Bagging?"
   ]
  },
  {
   "cell_type": "markdown",
   "metadata": {},
   "source": [
    "Question: Which is the difference between a Bagging and a Pasting Classifier?"
   ]
  },
  {
   "cell_type": "markdown",
   "metadata": {
    "solution": "hidden",
    "solution_first": true
   },
   "source": [
    "Question: Which are the most important parameters of random forests?"
   ]
  },
  {
   "cell_type": "markdown",
   "metadata": {},
   "source": [
    "The important parameters to adjust are n_estimators, max_features, and possibly\n",
    "pre-pruning options like max_depth. For n_estimators, larger is always better. Averaging\n",
    "more trees will yield a more robust ensemble by reducing overfitting. However,\n",
    "there are diminishing returns, and more trees need more memory and more time to\n",
    "train. A common rule of thumb is to build “as many as you have time/memory for.”\n",
    "As described earlier, max_features determines how random each tree is, and a\n",
    "smaller max_features reduces overfitting. In general, it’s a good rule of thumb to use\n",
    "the default values: max_features=sqrt(n_features) for classification and max_fea\n",
    "tures=n_features for regression. Adding max_features or max_leaf_nodes might\n",
    "sometimes improve performance. It can also drastically reduce space and time\n",
    "requirements for training and prediction."
   ]
  },
  {
   "cell_type": "markdown",
   "metadata": {
    "ExecuteTime": {
     "end_time": "2021-06-29T12:41:54.097585Z",
     "start_time": "2021-06-29T12:41:54.087576Z"
    }
   },
   "source": [
    "Question: Looking at the following plot\n",
    "    \n",
    "<div>\n",
    "<img src=\"decision_tree_vs_bagging.png\" width=\"800\"/>\n",
    "</div>\n",
    "\n",
    "which is most probable the decision tree model and which the random forest model."
   ]
  },
  {
   "cell_type": "markdown",
   "metadata": {},
   "source": [
    "The second plot is most probable the random forest model."
   ]
  },
  {
   "cell_type": "markdown",
   "metadata": {
    "ExecuteTime": {
     "end_time": "2021-06-29T13:02:28.853115Z",
     "start_time": "2021-06-29T13:02:28.843115Z"
    }
   },
   "source": [
    "Question: Describe the difference between hard and soft voting in ensemble methods?"
   ]
  },
  {
   "cell_type": "markdown",
   "metadata": {},
   "source": [
    "Question: Why should a model combined different other models be more accurate than the individual models."
   ]
  },
  {
   "cell_type": "markdown",
   "metadata": {
    "ExecuteTime": {
     "end_time": "2021-07-22T08:31:48.456793Z",
     "start_time": "2021-07-22T08:31:48.450789Z"
    }
   },
   "source": [
    "Soft voting refers to voting with respect to probabilities..."
   ]
  },
  {
   "cell_type": "markdown",
   "metadata": {},
   "source": [
    "# Genetic Algorithm"
   ]
  },
  {
   "cell_type": "markdown",
   "metadata": {},
   "source": [
    "**Question:** Suppose you were using a genetic algorithm and you have the following two individual,\n",
    "represented as strings of integers:\n",
    "\n",
    "1324421 and 2751421\n",
    "\n",
    "Which crossover techniques do you know and how would these techniques apply to those two strings?"
   ]
  },
  {
   "cell_type": "markdown",
   "metadata": {},
   "source": [
    "**Question:** Name and describe the main features of Genetic Algorithms (GA)."
   ]
  },
  {
   "cell_type": "markdown",
   "metadata": {},
   "source": [
    "Answer: Genetic Algorithms (GA) use principles of natural evolution. There are five important features of GA: Encoding possible solutions of a problem are considered as individuals in a population. If the solutions can be divided into a series of small steps (building blocks), then these steps are represented by genes and a series of genes (a chromosome) will encode the whole solution. This way different solutions of a problem are represented in GA as chromosomes of individuals. Fitness Function represents the main requirements of the desired solution of a problem (i.e. cheapest price, shortest route, most compact arrangement, etc). This function calculates and returns the fitness of an individual solution. Selection operator defines the way individuals in the current population are selected for reproduction. There are many strategies for that (e.g. roulette–wheel, ranked, tournament selection, etc), but usually the individuals which are more fit are selected.\n",
    "\n",
    "Crossover operator defines how chromosomes of parents are mixed in order to obtain genetic codes of their offspring (e.g. one–point, two–point, uniform crossover, etc). This operator implements the inheritance property (offspring inherit genes of their parents). Mutation operator creates random changes in genetic codes of the offspring. This operator is needed to bring some random diversity into the genetic code. In some cases GA cannot find the optimal solution without mutation operator (local maximum problem)."
   ]
  },
  {
   "cell_type": "markdown",
   "metadata": {
    "ExecuteTime": {
     "end_time": "2021-07-19T07:36:58.995011Z",
     "start_time": "2021-07-19T07:36:58.986019Z"
    }
   },
   "source": [
    "**Question:** Consider the problem of finding the shortest route through several cities,\n",
    "such that each city is visited only once and in the end return to the starting\n",
    "city (the Travelling Salesman problem). Suppose that in order to solve this\n",
    "problem we use a genetic algorithm, in which genes represent links between\n",
    "pairs of cities. For example, a link between London and Paris is represented\n",
    "by a single gene ‘LP’. Let also assume that the direction in which we travel\n",
    "is not important, so that LP = P L\n",
    "\n",
    "How many genes will be used in a chromosome of each individual if\n",
    "the number of cities is 10?\n",
    "\n",
    "b) How many genes will be in used in the algorithm?"
   ]
  },
  {
   "cell_type": "markdown",
   "metadata": {},
   "source": [
    "Answer a) Answer: Each chromosome will consist of 10 genes. Each gene representing the path between a pair of cities in the tour.\n",
    "\n",
    "b) Answer: The alphabet will consist of 45 genes. Indeed, each of the 10 cities can be connected with 9 remaining. Thus, 10 × 9 = 90 is the number of ways in which 10 cities can be grouped in pairs. However, because the direction is not important (i.e. London–Paris is the same as Paris–London) the number must be divided by 2. So, we shall need 90/2 = 45 genes in order to encode all pairs. In general the formula for n cities is:"
   ]
  },
  {
   "cell_type": "markdown",
   "metadata": {},
   "source": [
    "**Question:** Consider a genetic algorithm in which individuals are represented using a 5-bit string of the form \n",
    "\n",
    "$$b1b2b3b4b5 \\; . $$\n",
    "\n",
    "\n",
    "An example of an individual is $$00101$$ for which b1=0, b2=0, b3=1, b4=0, b5=1.\n",
    "The fitness function is defined over these individuals as follows:\n",
    "\n",
    "\n",
    "$$ f(b1b2b3b4b5) = b1 + b2 + b3 + b4 + b5 + AND(b1,b2,b3,b4,b5) $$\n",
    "where $AND(b1,b2,b3,b4,b5)=1$ if $b1=b2=b3=b4=b5=1$ and $AND(b1,b2,b3,b4,b5)=0$ otherwise.\n",
    "\n",
    "a) Calculate the fitness function of the following individuals:\n",
    "\n",
    "$$ 00101, 11101, 00000, 10010 11111 \\; . $$\n",
    "\n",
    "b) Suppose that a single crossover point will be used for crossover. This point has been chosen as the point between the 2nd and the 3rd bits (i.e. between b2 and b3). Show the two offspring that will result from crossing over the following two individuals:\n",
    "\n",
    "     First parent:  00101       \n",
    "\n",
    "     Second parent: 10111       \n",
    "   \n",
    "c) Explain how the standard mutation method is applied after selection and crossover to form the \"next\" generation of a population.\n",
    "\n",
    "For each individual, a bit of the individual will be randomly selected and it will be flipped with a given \"mutation rate\" probability.\n",
    "\n",
    " "
   ]
  },
  {
   "cell_type": "markdown",
   "metadata": {},
   "source": [
    "Answer a)   00101  $0+0+1+0+1+0 = 2$  \n",
    "\n",
    "  11101 $1+1+1+0+1+0 = 4$\n",
    "\n",
    "  00000 $0+0+0+0+0+0 = 0$\n",
    "\n",
    "  10010 $1+0+0+1+0+0 = 2$\n",
    "\n",
    "  11111 $1+1+1+1+1+1 = 6$\n",
    "  \n",
    "b) First offspring:  00111, Second offspring: 10101\n"
   ]
  },
  {
   "cell_type": "markdown",
   "metadata": {},
   "source": [
    "**Question**:\n",
    "Assume a population of strings. \n",
    "\n",
    "$$ 10111, 00111, 01001, 01010 $$\n",
    "\n",
    "Assuming that the string represents a binary encoding of a number n, and that the fitness function is given by $F_{i}=\\frac{100}{n}$ , calculate the fitness of the above indiviuals. \n",
    "\n",
    "\n",
    "Having done this, we randomly selecting mates and single crossover sites to generate a new population\n",
    "\n",
    "$$ 00111, 01001, 00101, 01011$$\n",
    "\n",
    "Calculate Fi for each member of the new population. Is this an improvement? (E.g has the average population fitness improved? How do the best-performing members compare?)"
   ]
  },
  {
   "cell_type": "markdown",
   "metadata": {},
   "source": [
    "String, Fi, Mating pool\n",
    "* 10111: 4.35, 00111\n",
    "* 00111: 14.29, 00111\n",
    "* 01001: 11.11, 01001\n",
    "* 01010: 10.0, 01001\n",
    "\n",
    "b) Previous average population fitness = 9.93, new average population fitness = 12.82. Previous best performer had fitness 14.29, new best performer has fitness 20.0. Yes, this is an improvement\n",
    "\n"
   ]
  },
  {
   "cell_type": "markdown",
   "metadata": {},
   "source": [
    "**Question:** In the context of genetic algorithms, what is a fitness function? What role does it play in helping the system to learn?"
   ]
  }
 ],
 "metadata": {
  "hide_input": false,
  "kernelspec": {
   "display_name": "Python 3",
   "language": "python",
   "name": "python3"
  },
  "language_info": {
   "codemirror_mode": {
    "name": "ipython",
    "version": 3
   },
   "file_extension": ".py",
   "mimetype": "text/x-python",
   "name": "python",
   "nbconvert_exporter": "python",
   "pygments_lexer": "ipython3",
   "version": "3.7.1"
  },
  "latex_envs": {
   "LaTeX_envs_menu_present": true,
   "autoclose": false,
   "autocomplete": true,
   "bibliofile": "biblio.bib",
   "cite_by": "apalike",
   "current_citInitial": 1,
   "eqLabelWithNumbers": true,
   "eqNumInitial": 1,
   "hotkeys": {
    "equation": "Ctrl-E",
    "itemize": "Ctrl-I"
   },
   "labels_anchors": false,
   "latex_user_defs": false,
   "report_style_numbering": false,
   "user_envs_cfg": false
  },
  "toc": {
   "base_numbering": 1,
   "nav_menu": {},
   "number_sections": true,
   "sideBar": true,
   "skip_h1_title": false,
   "title_cell": "Table of Contents",
   "title_sidebar": "Contents",
   "toc_cell": false,
   "toc_position": {
    "height": "calc(100% - 180px)",
    "left": "10px",
    "top": "150px",
    "width": "206.719px"
   },
   "toc_section_display": true,
   "toc_window_display": true
  }
 },
 "nbformat": 4,
 "nbformat_minor": 4
}
