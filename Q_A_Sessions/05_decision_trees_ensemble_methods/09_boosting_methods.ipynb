{
 "cells": [
  {
   "cell_type": "markdown",
   "metadata": {},
   "source": [
    "# Boosting Trees"
   ]
  },
  {
   "cell_type": "markdown",
   "metadata": {},
   "source": [
    "# Preamble"
   ]
  },
  {
   "cell_type": "code",
   "execution_count": 16,
   "metadata": {
    "ExecuteTime": {
     "end_time": "2022-02-22T16:09:21.870529Z",
     "start_time": "2022-02-22T16:09:21.853528Z"
    }
   },
   "outputs": [],
   "source": [
    "# Common imports\n",
    "import numpy as np # numpy is THE toolbox for scientific computing with python\n",
    "import pandas as pd # pandas provides THE data structure and data analysis tools for data scientists \n",
    "\n",
    "# maximum number of columns\n",
    "pd.set_option(\"display.max_rows\", 101)\n",
    "pd.set_option(\"display.max_columns\", 101)\n",
    "\n",
    "# To plot pretty figures\n",
    "%matplotlib inline\n",
    "import matplotlib as mpl\n",
    "import matplotlib.pyplot as plt\n",
    "mpl.rc('axes', labelsize=14)\n",
    "mpl.rc('xtick', labelsize=12)\n",
    "mpl.rc('ytick', labelsize=12)\n",
    "\n",
    "from warnings import filterwarnings\n",
    "filterwarnings('ignore')"
   ]
  },
  {
   "cell_type": "markdown",
   "metadata": {},
   "source": [
    "# Introduction"
   ]
  },
  {
   "cell_type": "markdown",
   "metadata": {},
   "source": [
    "Let us quickly refresh our knowledge on ensemble methods: Many weak learns give a strong learner. A common choice for weak learners are decision trees. An ensemble model with decision trees as the underlying base learner is called Random Forest.\n",
    "\n",
    "Ensemble methods have several advantages. Two of the most important advantages are:\n",
    "\n",
    "*    Random forests do not have assumptions as, for instance, linear models have. They are **non-parametric models**.\n",
    "*    As for linear models one can understand the importance of features.\n",
    "\n",
    "Boosting is a special version of combining weak learners into a strong learner. The predictors are trained **sequentially**, each trying to correct the predictions of the previous one. Therefore the **weak learners are not independent of each other.**\n",
    "\n",
    "Most important are **AdaBoost** and **GradientBoosting**.\n",
    "\n",
    "Here is a pictoral representation of this general general idea:"
   ]
  },
  {
   "cell_type": "markdown",
   "metadata": {},
   "source": [
    "![](boosting_idea.png)"
   ]
  },
  {
   "cell_type": "markdown",
   "metadata": {},
   "source": [
    "**Gradient boosted trees** are frequently the winning entries in machine learning competitions,\n",
    "and are widely used in industry. They are generally a bit more sensitive to\n",
    "parameter settings than random forests, but can provide better accuracy if the parameters\n",
    "are set correctly.\n",
    "\n",
    "As both gradient boosting and random forests perform well on similar kinds of data,\n",
    "a common approach is to first try random forests, which work quite robustly. If random\n",
    "forests work well but prediction time is at a premium, or it is important to\n",
    "squeeze out the last percentage of accuracy from the machine learning model, moving\n",
    "to gradient boosting often helps.\n",
    "\n",
    "If you want to apply gradient boosting to a large-scale problem, it might be worth\n",
    "looking into the xgboost package and its Python interface."
   ]
  },
  {
   "cell_type": "markdown",
   "metadata": {},
   "source": [
    "# Building our own Gradient Boosting Regressor"
   ]
  },
  {
   "cell_type": "markdown",
   "metadata": {},
   "source": [
    "In Gradient Boosting we fit the new predictor to tue residual errors made by the previous predictor."
   ]
  },
  {
   "cell_type": "code",
   "execution_count": 17,
   "metadata": {
    "ExecuteTime": {
     "end_time": "2022-02-22T16:09:24.557582Z",
     "start_time": "2022-02-22T16:09:24.550534Z"
    }
   },
   "outputs": [],
   "source": [
    "# A noisy quadratic training set:\n",
    "np.random.seed(42)\n",
    "X = np.random.rand(100, 1) - 0.5\n",
    "y = 3*X[:, 0]**2 + 0.05 * np.random.randn(100)"
   ]
  },
  {
   "cell_type": "markdown",
   "metadata": {},
   "source": [
    "We train our first decision tree:"
   ]
  },
  {
   "cell_type": "code",
   "execution_count": 18,
   "metadata": {
    "ExecuteTime": {
     "end_time": "2022-02-22T16:09:25.035538Z",
     "start_time": "2022-02-22T16:09:25.024537Z"
    }
   },
   "outputs": [
    {
     "data": {
      "text/plain": [
       "DecisionTreeRegressor(ccp_alpha=0.0, criterion='mse', max_depth=2,\n",
       "                      max_features=None, max_leaf_nodes=None,\n",
       "                      min_impurity_decrease=0.0, min_impurity_split=None,\n",
       "                      min_samples_leaf=1, min_samples_split=2,\n",
       "                      min_weight_fraction_leaf=0.0, presort='deprecated',\n",
       "                      random_state=42, splitter='best')"
      ]
     },
     "execution_count": 18,
     "metadata": {},
     "output_type": "execute_result"
    }
   ],
   "source": [
    "from sklearn.tree import DecisionTreeRegressor\n",
    "\n",
    "tree_reg1 = DecisionTreeRegressor(max_depth=2, random_state=42)\n",
    "tree_reg1.fit(X, y)"
   ]
  },
  {
   "cell_type": "markdown",
   "metadata": {},
   "source": [
    "We train a second decision tree on the residual errors of the first decision tree:"
   ]
  },
  {
   "cell_type": "code",
   "execution_count": 19,
   "metadata": {
    "ExecuteTime": {
     "end_time": "2022-02-22T16:09:25.493541Z",
     "start_time": "2022-02-22T16:09:25.479536Z"
    }
   },
   "outputs": [
    {
     "data": {
      "text/plain": [
       "DecisionTreeRegressor(ccp_alpha=0.0, criterion='mse', max_depth=2,\n",
       "                      max_features=None, max_leaf_nodes=None,\n",
       "                      min_impurity_decrease=0.0, min_impurity_split=None,\n",
       "                      min_samples_leaf=1, min_samples_split=2,\n",
       "                      min_weight_fraction_leaf=0.0, presort='deprecated',\n",
       "                      random_state=42, splitter='best')"
      ]
     },
     "execution_count": 19,
     "metadata": {},
     "output_type": "execute_result"
    }
   ],
   "source": [
    "y2 = y - tree_reg1.predict(X) # observation - prediction\n",
    "tree_reg2 = DecisionTreeRegressor(max_depth=2, random_state=42)\n",
    "tree_reg2.fit(X, y2)"
   ]
  },
  {
   "cell_type": "markdown",
   "metadata": {},
   "source": [
    "We train a third decision tree on the residual errors of the second decision tree:"
   ]
  },
  {
   "cell_type": "code",
   "execution_count": 20,
   "metadata": {
    "ExecuteTime": {
     "end_time": "2022-02-22T16:09:25.940543Z",
     "start_time": "2022-02-22T16:09:25.928542Z"
    }
   },
   "outputs": [
    {
     "data": {
      "text/plain": [
       "DecisionTreeRegressor(ccp_alpha=0.0, criterion='mse', max_depth=2,\n",
       "                      max_features=None, max_leaf_nodes=None,\n",
       "                      min_impurity_decrease=0.0, min_impurity_split=None,\n",
       "                      min_samples_leaf=1, min_samples_split=2,\n",
       "                      min_weight_fraction_leaf=0.0, presort='deprecated',\n",
       "                      random_state=42, splitter='best')"
      ]
     },
     "execution_count": 20,
     "metadata": {},
     "output_type": "execute_result"
    }
   ],
   "source": [
    "y3 = y2 - tree_reg2.predict(X)\n",
    "tree_reg3 = DecisionTreeRegressor(max_depth=2, random_state=42)\n",
    "tree_reg3.fit(X, y3)"
   ]
  },
  {
   "cell_type": "markdown",
   "metadata": {},
   "source": [
    "On the left-hand side you see the predictions of the three trees. The ensemble's prediction is on the right column. "
   ]
  },
  {
   "cell_type": "code",
   "execution_count": 21,
   "metadata": {
    "ExecuteTime": {
     "end_time": "2022-02-22T16:09:28.752552Z",
     "start_time": "2022-02-22T16:09:26.351540Z"
    }
   },
   "outputs": [
    {
     "data": {
      "image/png": "[encoded data removed]",
      "text/plain": [
       "<Figure size 792x792 with 6 Axes>"
      ]
     },
     "metadata": {
      "needs_background": "light"
     },
     "output_type": "display_data"
    }
   ],
   "source": [
    "def plot_predictions(regressors, X, y, axes, label=None, style=\"r-\", data_style=\"b.\", data_label=None):\n",
    "    x1 = np.linspace(axes[0], axes[1], 500)\n",
    "    y_pred = sum(regressor.predict(x1.reshape(-1, 1)) for regressor in regressors)\n",
    "    plt.plot(X[:, 0], y, data_style, label=data_label)\n",
    "    plt.plot(x1, y_pred, style, linewidth=2, label=label)\n",
    "    if label or data_label:\n",
    "        plt.legend(loc=\"upper center\", fontsize=16)\n",
    "    plt.axis(axes)\n",
    "\n",
    "plt.figure(figsize=(11,11))\n",
    "\n",
    "plt.subplot(321)\n",
    "plot_predictions([tree_reg1], X, y, axes=[-0.5, 0.5, -0.1, 0.8], label=\"$h_1(x_1)$\", style=\"g-\", data_label=\"Training set\")\n",
    "plt.ylabel(\"$y$\", fontsize=16, rotation=0)\n",
    "plt.title(\"Residuals and tree predictions\", fontsize=16)\n",
    "\n",
    "plt.subplot(322)\n",
    "plot_predictions([tree_reg1], X, y, axes=[-0.5, 0.5, -0.1, 0.8], label=\"$h(x_1) = h_1(x_1)$\", data_label=\"Training set\")\n",
    "plt.ylabel(\"$y$\", fontsize=16, rotation=0)\n",
    "plt.title(\"Ensemble predictions\", fontsize=16)\n",
    "\n",
    "plt.subplot(323)\n",
    "plot_predictions([tree_reg2], X, y2, axes=[-0.5, 0.5, -0.5, 0.5], label=\"$h_2(x_1)$\", style=\"g-\", data_style=\"k+\", data_label=\"Residuals\")\n",
    "plt.ylabel(\"$y - h_1(x_1)$\", fontsize=16)\n",
    "\n",
    "plt.subplot(324)\n",
    "plot_predictions([tree_reg1, tree_reg2], X, y, axes=[-0.5, 0.5, -0.1, 0.8], label=\"$h(x_1) = h_1(x_1) + h_2(x_1)$\")\n",
    "plt.ylabel(\"$y$\", fontsize=16, rotation=0)\n",
    "\n",
    "plt.subplot(325)\n",
    "plot_predictions([tree_reg3], X, y3, axes=[-0.5, 0.5, -0.5, 0.5], label=\"$h_3(x_1)$\", style=\"g-\", data_style=\"k+\")\n",
    "plt.ylabel(\"$y - h_1(x_1) - h_2(x_1)$\", fontsize=16)\n",
    "plt.xlabel(\"$x_1$\", fontsize=16)\n",
    "\n",
    "plt.subplot(326)\n",
    "plot_predictions([tree_reg1, tree_reg2, tree_reg3], X, y, axes=[-0.5, 0.5, -0.1, 0.8], label=\"$h(x_1) = h_1(x_1) + h_2(x_1) + h_3(x_1)$\")\n",
    "plt.xlabel(\"$x_1$\", fontsize=16)\n",
    "plt.ylabel(\"$y$\", fontsize=16, rotation=0)\n",
    "\n",
    "plt.show()"
   ]
  },
  {
   "cell_type": "markdown",
   "metadata": {},
   "source": [
    "We can see how the trees gradually improve."
   ]
  },
  {
   "cell_type": "markdown",
   "metadata": {},
   "source": [
    "Let us now add the predictions for all trees to give a final prediction"
   ]
  },
  {
   "cell_type": "code",
   "execution_count": 22,
   "metadata": {
    "ExecuteTime": {
     "end_time": "2022-02-22T16:09:28.772557Z",
     "start_time": "2022-02-22T16:09:28.758548Z"
    }
   },
   "outputs": [
    {
     "data": {
      "text/plain": [
       "array([0.75026781])"
      ]
     },
     "execution_count": 22,
     "metadata": {},
     "output_type": "execute_result"
    }
   ],
   "source": [
    "X_new = np.array([[0.8]])\n",
    "y_pred = sum(tree.predict(X_new) for tree in (tree_reg1, tree_reg2, tree_reg3))\n",
    "y_pred"
   ]
  },
  {
   "cell_type": "markdown",
   "metadata": {},
   "source": [
    "Scikit learn's `GradientBoostingRegressor` gives the same result:"
   ]
  },
  {
   "cell_type": "code",
   "execution_count": 23,
   "metadata": {
    "ExecuteTime": {
     "end_time": "2022-02-22T16:09:28.805551Z",
     "start_time": "2022-02-22T16:09:28.779552Z"
    }
   },
   "outputs": [
    {
     "data": {
      "text/plain": [
       "GradientBoostingRegressor(alpha=0.9, ccp_alpha=0.0, criterion='friedman_mse',\n",
       "                          init=None, learning_rate=1.0, loss='ls', max_depth=2,\n",
       "                          max_features=None, max_leaf_nodes=None,\n",
       "                          min_impurity_decrease=0.0, min_impurity_split=None,\n",
       "                          min_samples_leaf=1, min_samples_split=2,\n",
       "                          min_weight_fraction_leaf=0.0, n_estimators=3,\n",
       "                          n_iter_no_change=None, presort='deprecated',\n",
       "                          random_state=42, subsample=1.0, tol=0.0001,\n",
       "                          validation_fraction=0.1, verbose=0, warm_start=False)"
      ]
     },
     "execution_count": 23,
     "metadata": {},
     "output_type": "execute_result"
    }
   ],
   "source": [
    "from sklearn.ensemble import GradientBoostingRegressor\n",
    "\n",
    "gbrt = GradientBoostingRegressor(max_depth=2, n_estimators=3, learning_rate=1.0, random_state=42)\n",
    "gbrt.fit(X, y)"
   ]
  },
  {
   "cell_type": "code",
   "execution_count": 24,
   "metadata": {
    "ExecuteTime": {
     "end_time": "2022-02-22T16:09:28.830547Z",
     "start_time": "2022-02-22T16:09:28.811549Z"
    }
   },
   "outputs": [
    {
     "data": {
      "text/plain": [
       "array([0.75026781])"
      ]
     },
     "execution_count": 24,
     "metadata": {},
     "output_type": "execute_result"
    }
   ],
   "source": [
    "gbrt.predict(X_new)"
   ]
  },
  {
   "cell_type": "markdown",
   "metadata": {},
   "source": [
    "# Hyperparameters "
   ]
  },
  {
   "cell_type": "markdown",
   "metadata": {},
   "source": [
    "*    *n_estimators* is the number of trees\n",
    "\n",
    "*    *learning_rate* scales the contribution of each tree. With a small value one will need more trees in the ensemble to fit the training set, but it usually generalizes better. This is a regularization technique called *shrinkage*. "
   ]
  },
  {
   "cell_type": "code",
   "execution_count": 25,
   "metadata": {
    "ExecuteTime": {
     "end_time": "2022-02-22T16:09:29.637551Z",
     "start_time": "2022-02-22T16:09:29.530554Z"
    }
   },
   "outputs": [
    {
     "data": {
      "text/plain": [
       "GradientBoostingRegressor(alpha=0.9, ccp_alpha=0.0, criterion='friedman_mse',\n",
       "                          init=None, learning_rate=0.1, loss='ls', max_depth=2,\n",
       "                          max_features=None, max_leaf_nodes=None,\n",
       "                          min_impurity_decrease=0.0, min_impurity_split=None,\n",
       "                          min_samples_leaf=1, min_samples_split=2,\n",
       "                          min_weight_fraction_leaf=0.0, n_estimators=200,\n",
       "                          n_iter_no_change=None, presort='deprecated',\n",
       "                          random_state=42, subsample=1.0, tol=0.0001,\n",
       "                          validation_fraction=0.1, verbose=0, warm_start=False)"
      ]
     },
     "execution_count": 25,
     "metadata": {},
     "output_type": "execute_result"
    }
   ],
   "source": [
    "gbrt_slow = GradientBoostingRegressor(max_depth=2, n_estimators=200, learning_rate=0.1, random_state=42)\n",
    "gbrt_slow.fit(X, y)"
   ]
  },
  {
   "cell_type": "markdown",
   "metadata": {},
   "source": [
    "Here we compare a gradient boosting algorithm with a large learning rate, but only small number of predictors with a boosting algorithm with a small learning rate but a large number of estimators."
   ]
  },
  {
   "cell_type": "code",
   "execution_count": 26,
   "metadata": {
    "ExecuteTime": {
     "end_time": "2022-02-22T16:09:30.778557Z",
     "start_time": "2022-02-22T16:09:30.061556Z"
    }
   },
   "outputs": [
    {
     "data": {
      "image/png": "[encoded data removed]",
      "text/plain": [
       "<Figure size 1080x288 with 2 Axes>"
      ]
     },
     "metadata": {
      "needs_background": "light"
     },
     "output_type": "display_data"
    }
   ],
   "source": [
    "plt.figure(figsize=(15,4))\n",
    "\n",
    "plt.subplot(121)\n",
    "plot_predictions([gbrt], X, y, axes=[-0.5, 0.5, -0.1, 0.8], label=\"Gradient boosting prediction\")\n",
    "plt.title(\"learning_rate={}, n_estimators={}\".format(gbrt.learning_rate, gbrt.n_estimators), fontsize=14)\n",
    "\n",
    "plt.subplot(122)\n",
    "plot_predictions([gbrt_slow], X, y, axes=[-0.5, 0.5, -0.1, 0.8], label=\"Gradient boosting prediction\")\n",
    "plt.title(\"learning_rate={}, n_estimators={}\".format(gbrt_slow.learning_rate, gbrt_slow.n_estimators), fontsize=14)\n",
    "\n",
    "plt.show()"
   ]
  },
  {
   "cell_type": "markdown",
   "metadata": {},
   "source": [
    "The GradientBoostingRegressor class also supports a **subsample hyperparameter**,\n",
    "which specifies the fraction of training instances to be used for training each tree. For\n",
    "example, if subsample=0.25, then each tree is trained on 25% of the training instances,\n",
    "selected randomly. As you can probably guess by now, this technique trades a\n",
    "higher bias for a lower variance. It also speeds up training considerably. This is called\n",
    "Stochastic Gradient Boosting."
   ]
  },
  {
   "cell_type": "markdown",
   "metadata": {},
   "source": [
    "# Early Stopping"
   ]
  },
  {
   "cell_type": "markdown",
   "metadata": {},
   "source": [
    "A very different way to regularize iterative learning algorithms such as Gradient\n",
    "Descent is to stop training as soon as the validation error reaches a minimum. This is\n",
    "called early stopping."
   ]
  },
  {
   "cell_type": "code",
   "execution_count": 27,
   "metadata": {
    "ExecuteTime": {
     "end_time": "2022-02-22T16:09:32.324561Z",
     "start_time": "2022-02-22T16:09:32.143561Z"
    }
   },
   "outputs": [
    {
     "data": {
      "text/plain": [
       "GradientBoostingRegressor(alpha=0.9, ccp_alpha=0.0, criterion='friedman_mse',\n",
       "                          init=None, learning_rate=0.1, loss='ls', max_depth=2,\n",
       "                          max_features=None, max_leaf_nodes=None,\n",
       "                          min_impurity_decrease=0.0, min_impurity_split=None,\n",
       "                          min_samples_leaf=1, min_samples_split=2,\n",
       "                          min_weight_fraction_leaf=0.0, n_estimators=56,\n",
       "                          n_iter_no_change=None, presort='deprecated',\n",
       "                          random_state=42, subsample=1.0, tol=0.0001,\n",
       "                          validation_fraction=0.1, verbose=0, warm_start=False)"
      ]
     },
     "execution_count": 27,
     "metadata": {},
     "output_type": "execute_result"
    }
   ],
   "source": [
    "import numpy as np\n",
    "from sklearn.model_selection import train_test_split\n",
    "from sklearn.metrics import mean_squared_error\n",
    "\n",
    "X_train, X_val, y_train, y_val = train_test_split(X, y, random_state=49)\n",
    "\n",
    "gbrt = GradientBoostingRegressor(max_depth=2, n_estimators=120, random_state=42)\n",
    "gbrt.fit(X_train, y_train)\n",
    "\n",
    "# This method allows monitoring (i.e. determine error on testing set) after each stage.\n",
    "errors = [mean_squared_error(y_val, y_pred)\n",
    "          for y_pred in gbrt.staged_predict(X_val)]\n",
    "bst_n_estimators = np.argmin(errors) + 1\n",
    "\n",
    "gbrt_best = GradientBoostingRegressor(max_depth=2,n_estimators=bst_n_estimators, random_state=42)\n",
    "gbrt_best.fit(X_train, y_train)"
   ]
  },
  {
   "cell_type": "code",
   "execution_count": 28,
   "metadata": {
    "ExecuteTime": {
     "end_time": "2022-02-22T16:09:32.950559Z",
     "start_time": "2022-02-22T16:09:32.329561Z"
    }
   },
   "outputs": [
    {
     "data": {
      "image/png": "[encoded data removed]",
      "text/plain": [
       "<Figure size 792x288 with 2 Axes>"
      ]
     },
     "metadata": {
      "needs_background": "light"
     },
     "output_type": "display_data"
    }
   ],
   "source": [
    "min_error = np.min(errors)\n",
    "\n",
    "plt.figure(figsize=(11, 4))\n",
    "\n",
    "plt.subplot(121)\n",
    "plt.plot(errors, \"b.-\")\n",
    "plt.plot([bst_n_estimators, bst_n_estimators], [0, min_error], \"k--\")\n",
    "plt.plot([0, 120], [min_error, min_error], \"k--\")\n",
    "plt.plot(bst_n_estimators, min_error, \"ko\")\n",
    "plt.text(bst_n_estimators, min_error*1.2, \"Minimum\", ha=\"center\", fontsize=14)\n",
    "plt.axis([0, 120, 0, 0.01])\n",
    "plt.xlabel(\"Number of trees\")\n",
    "plt.title(\"Validation error\", fontsize=14)\n",
    "\n",
    "plt.subplot(122)\n",
    "plot_predictions([gbrt_best], X, y, axes=[-0.5, 0.5, -0.1, 0.8])\n",
    "plt.title(\"Best model (%d trees)\" % bst_n_estimators, fontsize=14)\n",
    "\n",
    "plt.show()"
   ]
  },
  {
   "cell_type": "code",
   "execution_count": 29,
   "metadata": {
    "ExecuteTime": {
     "end_time": "2022-02-22T16:09:33.008564Z",
     "start_time": "2022-02-22T16:09:32.955566Z"
    }
   },
   "outputs": [
    {
     "name": "stdout",
     "output_type": "stream",
     "text": [
      "0.002759170194030127\n",
      "Final number of estimators :  48\n",
      "0.002712853325235463\n"
     ]
    }
   ],
   "source": [
    "#X_train, X_val, y_train, y_val = train_test_split(X, y, random_state=49)\n",
    "\n",
    "# n_iter_no_change is used to decide if early stopping will be used to terminate training when validation score is not improving. \n",
    "# By default it is set to None to disable early stopping. If set to a number, it will set aside validation_fraction size of the \n",
    "# training data as validation and terminate training when validation score is not improving in all of the previous n_iter_no_change \n",
    "# numbers of iterations. The split is stratified.\n",
    "gbrt = GradientBoostingRegressor(max_depth=2, n_estimators=120, n_iter_no_change= 5, random_state=42)\n",
    "gbrt.fit(X_train, y_train)\n",
    "\n",
    "print(mean_squared_error(y_val, gbrt.predict(X_val)))\n",
    "print('Final number of estimators : ' , gbrt.n_estimators_)\n",
    "print(min_error)"
   ]
  },
  {
   "cell_type": "markdown",
   "metadata": {},
   "source": [
    "## GridSearch and Early Stopping"
   ]
  },
  {
   "cell_type": "markdown",
   "metadata": {},
   "source": [
    "How to use GridSearchCV and Early Stopping Together"
   ]
  },
  {
   "cell_type": "code",
   "execution_count": 30,
   "metadata": {
    "ExecuteTime": {
     "end_time": "2022-02-22T16:09:33.557566Z",
     "start_time": "2022-02-22T16:09:33.534566Z"
    }
   },
   "outputs": [
    {
     "ename": "AttributeError",
     "evalue": "'numpy.ndarray' object has no attribute 'head'",
     "output_type": "error",
     "traceback": [
      "\u001b[1;31m---------------------------------------------------------------------------\u001b[0m",
      "\u001b[1;31mAttributeError\u001b[0m                            Traceback (most recent call last)",
      "\u001b[1;32m<ipython-input-30-aefc43a39d43>\u001b[0m in \u001b[0;36m<module>\u001b[1;34m\u001b[0m\n\u001b[1;32m----> 1\u001b[1;33m \u001b[0mX_train\u001b[0m\u001b[1;33m.\u001b[0m\u001b[0mhead\u001b[0m\u001b[1;33m(\u001b[0m\u001b[1;36m3\u001b[0m\u001b[1;33m)\u001b[0m\u001b[1;33m\u001b[0m\u001b[1;33m\u001b[0m\u001b[0m\n\u001b[0m",
      "\u001b[1;31mAttributeError\u001b[0m: 'numpy.ndarray' object has no attribute 'head'"
     ]
    }
   ],
   "source": [
    "X_train.head(3)"
   ]
  },
  {
   "cell_type": "markdown",
   "metadata": {},
   "source": [
    "# XGBoost"
   ]
  },
  {
   "cell_type": "markdown",
   "metadata": {},
   "source": [
    "*XGBoost = Extreme Gradient Boosting*"
   ]
  },
  {
   "cell_type": "markdown",
   "metadata": {},
   "source": [
    "*Here are the docs: https://xgboost.readthedocs.io/en/latest/python/index.html.* "
   ]
  },
  {
   "cell_type": "markdown",
   "metadata": {},
   "source": [
    "*It is heavily used in industry and should be in every data scientist's toolsbox. It is not within Scikit-Learn, but works quite similar to Scikit-Learn's API.*"
   ]
  },
  {
   "cell_type": "markdown",
   "metadata": {},
   "source": [
    "## First Example"
   ]
  },
  {
   "cell_type": "code",
   "execution_count": 31,
   "metadata": {
    "ExecuteTime": {
     "end_time": "2022-02-22T16:09:37.454573Z",
     "start_time": "2022-02-22T16:09:37.379575Z"
    }
   },
   "outputs": [],
   "source": [
    "try:\n",
    "    import xgboost\n",
    "except ImportError as ex:\n",
    "    print(\"Error: the xgboost library is not installed.\")\n",
    "    xgboost = None"
   ]
  },
  {
   "cell_type": "code",
   "execution_count": 32,
   "metadata": {
    "ExecuteTime": {
     "end_time": "2022-02-22T16:09:37.534575Z",
     "start_time": "2022-02-22T16:09:37.459577Z"
    }
   },
   "outputs": [
    {
     "data": {
      "text/plain": [
       "GradientBoostingRegressor(alpha=0.9, ccp_alpha=0.0, criterion='friedman_mse',\n",
       "                          init=None, learning_rate=0.1, loss='ls', max_depth=2,\n",
       "                          max_features=None, max_leaf_nodes=None,\n",
       "                          min_impurity_decrease=0.0, min_impurity_split=None,\n",
       "                          min_samples_leaf=1, min_samples_split=2,\n",
       "                          min_weight_fraction_leaf=0.0, n_estimators=120,\n",
       "                          n_iter_no_change=None, presort='deprecated',\n",
       "                          random_state=42, subsample=1.0, tol=0.0001,\n",
       "                          validation_fraction=0.1, verbose=0, warm_start=False)"
      ]
     },
     "execution_count": 32,
     "metadata": {},
     "output_type": "execute_result"
    }
   ],
   "source": [
    "from sklearn.model_selection import train_test_split\n",
    "from sklearn.metrics import mean_squared_error\n",
    "\n",
    "X_train, X_val, y_train, y_val = train_test_split(X, y, random_state=49)\n",
    "\n",
    "gbrt = GradientBoostingRegressor(max_depth=2, n_estimators=120, random_state=42)\n",
    "gbrt.fit(X_train, y_train)"
   ]
  },
  {
   "cell_type": "code",
   "execution_count": 33,
   "metadata": {
    "ExecuteTime": {
     "end_time": "2022-02-22T16:09:37.571577Z",
     "start_time": "2022-02-22T16:09:37.540577Z"
    }
   },
   "outputs": [
    {
     "name": "stdout",
     "output_type": "stream",
     "text": [
      "Validation MSE: 0.0028512559726563943\n"
     ]
    }
   ],
   "source": [
    "if xgboost is not None:  \n",
    "    xgb_reg = xgboost.XGBRegressor(random_state=42, verbosity = 0)\n",
    "    xgb_reg.fit(X_train, y_train)\n",
    "    y_pred = xgb_reg.predict(X_val)\n",
    "    val_error = mean_squared_error(y_val, y_pred)\n",
    "    print(\"Validation MSE:\", val_error)"
   ]
  },
  {
   "cell_type": "markdown",
   "metadata": {},
   "source": [
    "XGBoost also offers several nice features, such as automatically taking care of early\n",
    "stopping:"
   ]
  },
  {
   "cell_type": "code",
   "execution_count": 34,
   "metadata": {
    "ExecuteTime": {
     "end_time": "2022-02-22T16:09:38.097581Z",
     "start_time": "2022-02-22T16:09:37.967580Z"
    }
   },
   "outputs": [
    {
     "name": "stdout",
     "output_type": "stream",
     "text": [
      "[0]\tvalidation_0-rmse:0.286719\n",
      "Will train until validation_0-rmse hasn't improved in 5 rounds.\n",
      "[1]\tvalidation_0-rmse:0.258221\n",
      "[2]\tvalidation_0-rmse:0.232634\n",
      "[3]\tvalidation_0-rmse:0.210526\n",
      "[4]\tvalidation_0-rmse:0.190232\n",
      "[5]\tvalidation_0-rmse:0.172196\n",
      "[6]\tvalidation_0-rmse:0.156394\n",
      "[7]\tvalidation_0-rmse:0.142241\n",
      "[8]\tvalidation_0-rmse:0.129789\n",
      "[9]\tvalidation_0-rmse:0.118752\n",
      "[10]\tvalidation_0-rmse:0.108388\n",
      "[11]\tvalidation_0-rmse:0.100155\n",
      "[12]\tvalidation_0-rmse:0.09208\n",
      "[13]\tvalidation_0-rmse:0.084791\n",
      "[14]\tvalidation_0-rmse:0.078699\n",
      "[15]\tvalidation_0-rmse:0.073248\n",
      "[16]\tvalidation_0-rmse:0.069391\n",
      "[17]\tvalidation_0-rmse:0.066277\n",
      "[18]\tvalidation_0-rmse:0.063458\n",
      "[19]\tvalidation_0-rmse:0.060326\n",
      "[20]\tvalidation_0-rmse:0.0578\n",
      "[21]\tvalidation_0-rmse:0.055643\n",
      "[22]\tvalidation_0-rmse:0.053943\n",
      "[23]\tvalidation_0-rmse:0.053138\n",
      "[24]\tvalidation_0-rmse:0.052415\n",
      "[25]\tvalidation_0-rmse:0.051821\n",
      "[26]\tvalidation_0-rmse:0.051226\n",
      "[27]\tvalidation_0-rmse:0.051135\n",
      "[28]\tvalidation_0-rmse:0.05091\n",
      "[29]\tvalidation_0-rmse:0.050893\n",
      "[30]\tvalidation_0-rmse:0.050725\n",
      "[31]\tvalidation_0-rmse:0.050471\n",
      "[32]\tvalidation_0-rmse:0.050285\n",
      "[33]\tvalidation_0-rmse:0.050492\n",
      "[34]\tvalidation_0-rmse:0.050348\n",
      "[35]\tvalidation_0-rmse:0.050319\n",
      "[36]\tvalidation_0-rmse:0.050271\n",
      "[37]\tvalidation_0-rmse:0.050318\n",
      "[38]\tvalidation_0-rmse:0.050502\n",
      "[39]\tvalidation_0-rmse:0.050428\n",
      "[40]\tvalidation_0-rmse:0.050716\n",
      "[41]\tvalidation_0-rmse:0.050842\n",
      "Stopping. Best iteration:\n",
      "[36]\tvalidation_0-rmse:0.050271\n",
      "\n",
      "Validation MSE: 0.002527133207154657\n"
     ]
    }
   ],
   "source": [
    "if xgboost is not None: \n",
    "    xgb_reg.fit(X_train, y_train,\n",
    "                eval_set=[(X_val, y_val)], early_stopping_rounds=5)\n",
    "    y_pred = xgb_reg.predict(X_val)\n",
    "    val_error = mean_squared_error(y_val, y_pred)\n",
    "    print(\"Validation MSE:\", val_error)"
   ]
  },
  {
   "cell_type": "code",
   "execution_count": 35,
   "metadata": {
    "ExecuteTime": {
     "end_time": "2022-02-22T16:09:38.113577Z",
     "start_time": "2022-02-22T16:09:38.103576Z"
    }
   },
   "outputs": [
    {
     "name": "stdout",
     "output_type": "stream",
     "text": [
      "Final number of estimators :  37\n"
     ]
    }
   ],
   "source": [
    "print('Final number of estimators : ', xgb_reg.best_ntree_limit)"
   ]
  },
  {
   "cell_type": "code",
   "execution_count": 36,
   "metadata": {
    "ExecuteTime": {
     "end_time": "2022-02-22T16:09:38.629581Z",
     "start_time": "2022-02-22T16:09:38.121578Z"
    }
   },
   "outputs": [
    {
     "data": {
      "text/plain": [
       "<matplotlib.legend.Legend at 0x1e5d4b2c160>"
      ]
     },
     "execution_count": 36,
     "metadata": {},
     "output_type": "execute_result"
    },
    {
     "data": {
      "image/png": "[encoded data removed]",
      "text/plain": [
       "<Figure size 720x504 with 1 Axes>"
      ]
     },
     "metadata": {
      "needs_background": "light"
     },
     "output_type": "display_data"
    }
   ],
   "source": [
    "results = xgb_reg.evals_result()\n",
    "\n",
    "plt.figure(figsize=(10,7))\n",
    "plt.plot(results[\"validation_0\"][\"rmse\"], label=\"Training loss\")\n",
    "#plt.plot(results[\"validation_1\"][\"rmse\"], label=\"Validation loss\")\n",
    "plt.axvline(xgb_reg.best_ntree_limit, color=\"gray\", label=\"Optimal tree number\")\n",
    "plt.xlabel(\"Number of trees\")\n",
    "plt.ylabel(\"Loss\")\n",
    "plt.legend()"
   ]
  },
  {
   "cell_type": "code",
   "execution_count": 37,
   "metadata": {
    "ExecuteTime": {
     "end_time": "2022-02-22T16:09:38.769582Z",
     "start_time": "2022-02-22T16:09:38.633580Z"
    }
   },
   "outputs": [
    {
     "name": "stdout",
     "output_type": "stream",
     "text": [
      "[0]\tvalidation_0-rmse:0.30663\tvalidation_1-rmse:0.286719\n",
      "Multiple eval metrics have been passed: 'validation_1-rmse' will be used for early stopping.\n",
      "\n",
      "Will train until validation_1-rmse hasn't improved in 5 rounds.\n",
      "[1]\tvalidation_0-rmse:0.278836\tvalidation_1-rmse:0.258221\n",
      "[2]\tvalidation_0-rmse:0.253681\tvalidation_1-rmse:0.232634\n",
      "[3]\tvalidation_0-rmse:0.231486\tvalidation_1-rmse:0.210526\n",
      "[4]\tvalidation_0-rmse:0.211114\tvalidation_1-rmse:0.190232\n",
      "[5]\tvalidation_0-rmse:0.192833\tvalidation_1-rmse:0.172196\n",
      "[6]\tvalidation_0-rmse:0.17643\tvalidation_1-rmse:0.156394\n",
      "[7]\tvalidation_0-rmse:0.161176\tvalidation_1-rmse:0.142241\n",
      "[8]\tvalidation_0-rmse:0.147408\tvalidation_1-rmse:0.129789\n",
      "[9]\tvalidation_0-rmse:0.134873\tvalidation_1-rmse:0.118752\n",
      "[10]\tvalidation_0-rmse:0.12343\tvalidation_1-rmse:0.108388\n",
      "[11]\tvalidation_0-rmse:0.113839\tvalidation_1-rmse:0.100155\n",
      "[12]\tvalidation_0-rmse:0.104616\tvalidation_1-rmse:0.09208\n",
      "[13]\tvalidation_0-rmse:0.09616\tvalidation_1-rmse:0.084791\n",
      "[14]\tvalidation_0-rmse:0.088619\tvalidation_1-rmse:0.078699\n",
      "[15]\tvalidation_0-rmse:0.081844\tvalidation_1-rmse:0.073248\n",
      "[16]\tvalidation_0-rmse:0.076215\tvalidation_1-rmse:0.069391\n",
      "[17]\tvalidation_0-rmse:0.071275\tvalidation_1-rmse:0.066277\n",
      "[18]\tvalidation_0-rmse:0.066525\tvalidation_1-rmse:0.063458\n",
      "[19]\tvalidation_0-rmse:0.061844\tvalidation_1-rmse:0.060326\n",
      "[20]\tvalidation_0-rmse:0.057969\tvalidation_1-rmse:0.0578\n",
      "[21]\tvalidation_0-rmse:0.054223\tvalidation_1-rmse:0.055643\n",
      "[22]\tvalidation_0-rmse:0.0509\tvalidation_1-rmse:0.053943\n",
      "[23]\tvalidation_0-rmse:0.048116\tvalidation_1-rmse:0.053138\n",
      "[24]\tvalidation_0-rmse:0.045696\tvalidation_1-rmse:0.052415\n",
      "[25]\tvalidation_0-rmse:0.043467\tvalidation_1-rmse:0.051821\n",
      "[26]\tvalidation_0-rmse:0.04154\tvalidation_1-rmse:0.051226\n",
      "[27]\tvalidation_0-rmse:0.039837\tvalidation_1-rmse:0.051135\n",
      "[28]\tvalidation_0-rmse:0.038397\tvalidation_1-rmse:0.05091\n",
      "[29]\tvalidation_0-rmse:0.037229\tvalidation_1-rmse:0.050893\n",
      "[30]\tvalidation_0-rmse:0.035891\tvalidation_1-rmse:0.050725\n",
      "[31]\tvalidation_0-rmse:0.034772\tvalidation_1-rmse:0.050471\n",
      "[32]\tvalidation_0-rmse:0.033845\tvalidation_1-rmse:0.050285\n",
      "[33]\tvalidation_0-rmse:0.033174\tvalidation_1-rmse:0.050492\n",
      "[34]\tvalidation_0-rmse:0.032412\tvalidation_1-rmse:0.050348\n",
      "[35]\tvalidation_0-rmse:0.031675\tvalidation_1-rmse:0.050319\n",
      "[36]\tvalidation_0-rmse:0.031109\tvalidation_1-rmse:0.050271\n",
      "[37]\tvalidation_0-rmse:0.030529\tvalidation_1-rmse:0.050318\n",
      "[38]\tvalidation_0-rmse:0.03019\tvalidation_1-rmse:0.050502\n",
      "[39]\tvalidation_0-rmse:0.029753\tvalidation_1-rmse:0.050428\n",
      "[40]\tvalidation_0-rmse:0.029504\tvalidation_1-rmse:0.050716\n",
      "[41]\tvalidation_0-rmse:0.029264\tvalidation_1-rmse:0.050842\n",
      "Stopping. Best iteration:\n",
      "[36]\tvalidation_0-rmse:0.031109\tvalidation_1-rmse:0.050271\n",
      "\n",
      "Train MSE: 0.0009677847472833919\n",
      "Validation MSE: 0.002527133207154657\n"
     ]
    }
   ],
   "source": [
    "xgb_reg.fit(X_train, y_train,eval_set=[(X_train, y_train), (X_val, y_val)], early_stopping_rounds=5)\n",
    "\n",
    "y_pred = xgb_reg.predict(X_train)\n",
    "train_error = mean_squared_error(y_train, y_pred)\n",
    "print(\"Train MSE:\", train_error)\n",
    "\n",
    "y_pred = xgb_reg.predict(X_val)\n",
    "val_error = mean_squared_error(y_val, y_pred)\n",
    "print(\"Validation MSE:\", val_error)"
   ]
  },
  {
   "cell_type": "code",
   "execution_count": 38,
   "metadata": {
    "ExecuteTime": {
     "end_time": "2022-02-22T16:09:39.287583Z",
     "start_time": "2022-02-22T16:09:38.775583Z"
    }
   },
   "outputs": [
    {
     "data": {
      "text/plain": [
       "<matplotlib.legend.Legend at 0x1e5d4c320f0>"
      ]
     },
     "execution_count": 38,
     "metadata": {},
     "output_type": "execute_result"
    },
    {
     "data": {
      "image/png": "[encoded data removed]",
      "text/plain": [
       "<Figure size 720x504 with 1 Axes>"
      ]
     },
     "metadata": {
      "needs_background": "light"
     },
     "output_type": "display_data"
    }
   ],
   "source": [
    "results = xgb_reg.evals_result()\n",
    "\n",
    "plt.figure(figsize=(10,7))\n",
    "plt.plot(results[\"validation_0\"][\"rmse\"], label=\"Training loss\")\n",
    "plt.plot(results[\"validation_1\"][\"rmse\"], label=\"Validation loss\")\n",
    "plt.axvline(xgb_reg.best_ntree_limit, color=\"gray\", label=\"Optimal tree number\")\n",
    "plt.xlabel(\"Number of trees\")\n",
    "plt.ylabel(\"Loss\")\n",
    "plt.legend()"
   ]
  },
  {
   "cell_type": "markdown",
   "metadata": {},
   "source": [
    "## Grid Search and Early Stopping"
   ]
  },
  {
   "cell_type": "code",
   "execution_count": 39,
   "metadata": {
    "ExecuteTime": {
     "end_time": "2022-02-22T16:09:40.092595Z",
     "start_time": "2022-02-22T16:09:39.294585Z"
    }
   },
   "outputs": [
    {
     "name": "stdout",
     "output_type": "stream",
     "text": [
      "Fitting 3 folds for each of 2 candidates, totalling 6 fits\n",
      "[17:09:39] WARNING: C:/Jenkins/workspace/xgboost-win64_release_0.90/src/objective/regression_obj.cu:152: reg:linear is now deprecated in favor of reg:squarederror.\n",
      "[0]\tvalidation_0-mae:0.24834\n",
      "Will train until validation_0-mae hasn't improved in 5 rounds.\n",
      "[1]\tvalidation_0-mae:0.227503\n",
      "[2]\tvalidation_0-mae:0.209432\n",
      "[3]\tvalidation_0-mae:0.189632\n",
      "[4]\tvalidation_0-mae:0.173567\n",
      "[5]\tvalidation_0-mae:0.157015\n",
      "[6]\tvalidation_0-mae:0.143796\n",
      "[7]\tvalidation_0-mae:0.131021\n",
      "[8]\tvalidation_0-mae:0.118804\n",
      "[9]\tvalidation_0-mae:0.109061\n",
      "[10]\tvalidation_0-mae:0.099633\n",
      "[11]\tvalidation_0-mae:0.091692\n",
      "[12]\tvalidation_0-mae:0.084055\n",
      "[13]\tvalidation_0-mae:0.076759\n",
      "[14]\tvalidation_0-mae:0.072381\n",
      "[15]\tvalidation_0-mae:0.066766\n",
      "[16]\tvalidation_0-mae:0.061101\n",
      "[17]\tvalidation_0-mae:0.057298\n",
      "[18]\tvalidation_0-mae:0.053732\n",
      "[19]\tvalidation_0-mae:0.050638\n",
      "[20]\tvalidation_0-mae:0.047372\n",
      "[21]\tvalidation_0-mae:0.046216\n",
      "[22]\tvalidation_0-mae:0.043394\n",
      "[23]\tvalidation_0-mae:0.040837\n",
      "[24]\tvalidation_0-mae:0.039153\n",
      "[25]\tvalidation_0-mae:0.037786\n",
      "[26]\tvalidation_0-mae:0.036625\n",
      "[27]\tvalidation_0-mae:0.035969\n",
      "[28]\tvalidation_0-mae:0.035439\n",
      "[29]\tvalidation_0-mae:0.03594\n",
      "[30]\tvalidation_0-mae:0.034882\n",
      "[31]\tvalidation_0-mae:0.035108\n",
      "[32]\tvalidation_0-mae:0.034542\n",
      "[33]\tvalidation_0-mae:0.034424\n",
      "[34]\tvalidation_0-mae:0.034546\n",
      "[35]\tvalidation_0-mae:0.035129\n",
      "[36]\tvalidation_0-mae:0.034563\n",
      "[37]\tvalidation_0-mae:0.035034\n",
      "[38]\tvalidation_0-mae:0.034871\n",
      "Stopping. Best iteration:\n",
      "[33]\tvalidation_0-mae:0.034424\n",
      "\n",
      "[17:09:39] WARNING: C:/Jenkins/workspace/xgboost-win64_release_0.90/src/objective/regression_obj.cu:152: reg:linear is now deprecated in favor of reg:squarederror.\n",
      "[0]\tvalidation_0-mae:0.249518\n",
      "Will train until validation_0-mae hasn't improved in 5 rounds.\n",
      "[1]\tvalidation_0-mae:0.228256\n",
      "[2]\tvalidation_0-mae:0.210837\n",
      "[3]\tvalidation_0-mae:0.191352\n",
      "[4]\tvalidation_0-mae:0.173153\n",
      "[5]\tvalidation_0-mae:0.155858\n",
      "[6]\tvalidation_0-mae:0.141206\n",
      "[7]\tvalidation_0-mae:0.127276\n",
      "[8]\tvalidation_0-mae:0.115668\n",
      "[9]\tvalidation_0-mae:0.106893\n",
      "[10]\tvalidation_0-mae:0.097729\n",
      "[11]\tvalidation_0-mae:0.089087\n",
      "[12]\tvalidation_0-mae:0.079692\n",
      "[13]\tvalidation_0-mae:0.070052\n",
      "[14]\tvalidation_0-mae:0.064047\n",
      "[15]\tvalidation_0-mae:0.060414\n",
      "[16]\tvalidation_0-mae:0.056505\n",
      "[17]\tvalidation_0-mae:0.053169\n",
      "[18]\tvalidation_0-mae:0.049882\n",
      "[19]\tvalidation_0-mae:0.047162\n",
      "[20]\tvalidation_0-mae:0.044923\n",
      "[21]\tvalidation_0-mae:0.042967\n"
     ]
    },
    {
     "name": "stderr",
     "output_type": "stream",
     "text": [
      "[Parallel(n_jobs=1)]: Using backend SequentialBackend with 1 concurrent workers.\n"
     ]
    },
    {
     "name": "stdout",
     "output_type": "stream",
     "text": [
      "[22]\tvalidation_0-mae:0.040542\n",
      "[23]\tvalidation_0-mae:0.03897\n",
      "[24]\tvalidation_0-mae:0.038247\n",
      "[25]\tvalidation_0-mae:0.038115\n",
      "[26]\tvalidation_0-mae:0.037652\n",
      "[27]\tvalidation_0-mae:0.036883\n",
      "[28]\tvalidation_0-mae:0.036713\n",
      "[29]\tvalidation_0-mae:0.036778\n",
      "[30]\tvalidation_0-mae:0.03668\n",
      "[31]\tvalidation_0-mae:0.036928\n",
      "[32]\tvalidation_0-mae:0.037447\n",
      "[33]\tvalidation_0-mae:0.037072\n",
      "[34]\tvalidation_0-mae:0.037398\n",
      "[35]\tvalidation_0-mae:0.037859\n",
      "Stopping. Best iteration:\n",
      "[30]\tvalidation_0-mae:0.03668\n",
      "\n",
      "[17:09:39] WARNING: C:/Jenkins/workspace/xgboost-win64_release_0.90/src/objective/regression_obj.cu:152: reg:linear is now deprecated in favor of reg:squarederror.\n",
      "[0]\tvalidation_0-mae:0.248484\n",
      "Will train until validation_0-mae hasn't improved in 5 rounds.\n",
      "[1]\tvalidation_0-mae:0.223652\n",
      "[2]\tvalidation_0-mae:0.201694\n",
      "[3]\tvalidation_0-mae:0.182726\n",
      "[4]\tvalidation_0-mae:0.164206\n",
      "[5]\tvalidation_0-mae:0.150822\n",
      "[6]\tvalidation_0-mae:0.136359\n",
      "[7]\tvalidation_0-mae:0.124836\n",
      "[8]\tvalidation_0-mae:0.111121\n",
      "[9]\tvalidation_0-mae:0.099748\n",
      "[10]\tvalidation_0-mae:0.088786\n",
      "[11]\tvalidation_0-mae:0.082572\n",
      "[12]\tvalidation_0-mae:0.075575\n",
      "[13]\tvalidation_0-mae:0.06813\n",
      "[14]\tvalidation_0-mae:0.062861\n",
      "[15]\tvalidation_0-mae:0.059243\n",
      "[16]\tvalidation_0-mae:0.056734\n",
      "[17]\tvalidation_0-mae:0.053475\n",
      "[18]\tvalidation_0-mae:0.049998\n",
      "[19]\tvalidation_0-mae:0.047696\n",
      "[20]\tvalidation_0-mae:0.044944\n",
      "[21]\tvalidation_0-mae:0.043928\n",
      "[22]\tvalidation_0-mae:0.042704\n",
      "[23]\tvalidation_0-mae:0.041218\n",
      "[24]\tvalidation_0-mae:0.040719\n",
      "[25]\tvalidation_0-mae:0.040165\n",
      "[26]\tvalidation_0-mae:0.039826\n",
      "[27]\tvalidation_0-mae:0.039591\n",
      "[28]\tvalidation_0-mae:0.039123\n",
      "[29]\tvalidation_0-mae:0.038088\n",
      "[30]\tvalidation_0-mae:0.037188\n",
      "[31]\tvalidation_0-mae:0.037751\n",
      "[32]\tvalidation_0-mae:0.036959\n",
      "[33]\tvalidation_0-mae:0.036727\n",
      "[34]\tvalidation_0-mae:0.036418\n",
      "[35]\tvalidation_0-mae:0.036587\n",
      "[36]\tvalidation_0-mae:0.036131\n",
      "[37]\tvalidation_0-mae:0.036236\n",
      "[38]\tvalidation_0-mae:0.036102\n",
      "[39]\tvalidation_0-mae:0.036101\n",
      "[40]\tvalidation_0-mae:0.036811\n",
      "[41]\tvalidation_0-mae:0.037563\n",
      "[42]\tvalidation_0-mae:0.037191\n",
      "[43]\tvalidation_0-mae:0.03727\n",
      "[44]\tvalidation_0-mae:0.03713\n",
      "Stopping. Best iteration:\n",
      "[39]\tvalidation_0-mae:0.036101\n",
      "\n",
      "[17:09:39] WARNING: C:/Jenkins/workspace/xgboost-win64_release_0.90/src/objective/regression_obj.cu:152: reg:linear is now deprecated in favor of reg:squarederror.\n",
      "[0]\tvalidation_0-mae:0.247066\n",
      "Will train until validation_0-mae hasn't improved in 5 rounds.\n",
      "[1]\tvalidation_0-mae:0.22422\n",
      "[2]\tvalidation_0-mae:0.202791\n",
      "[3]\tvalidation_0-mae:0.183591\n",
      "[4]\tvalidation_0-mae:0.165976\n",
      "[5]\tvalidation_0-mae:0.149076\n",
      "[6]\tvalidation_0-mae:0.133793\n",
      "[7]\tvalidation_0-mae:0.11944\n",
      "[8]\tvalidation_0-mae:0.108103\n",
      "[9]\tvalidation_0-mae:0.099545\n",
      "[10]\tvalidation_0-mae:0.092088\n",
      "[11]\tvalidation_0-mae:0.085395\n",
      "[12]\tvalidation_0-mae:0.078713\n",
      "[13]\tvalidation_0-mae:0.072941\n",
      "[14]\tvalidation_0-mae:0.068637\n",
      "[15]\tvalidation_0-mae:0.065002\n",
      "[16]\tvalidation_0-mae:0.060727\n",
      "[17]\tvalidation_0-mae:0.056903\n",
      "[18]\tvalidation_0-mae:0.054466\n",
      "[19]\tvalidation_0-mae:0.051583\n",
      "[20]\tvalidation_0-mae:0.049401\n",
      "[21]\tvalidation_0-mae:0.047012\n",
      "[22]\tvalidation_0-mae:0.044956\n",
      "[23]\tvalidation_0-mae:0.043023\n",
      "[24]\tvalidation_0-mae:0.041403\n",
      "[25]\tvalidation_0-mae:0.040664\n",
      "[26]\tvalidation_0-mae:0.040164\n",
      "[27]\tvalidation_0-mae:0.039039\n",
      "[28]\tvalidation_0-mae:0.038429\n",
      "[29]\tvalidation_0-mae:0.038357\n",
      "[30]\tvalidation_0-mae:0.03851\n",
      "[31]\tvalidation_0-mae:0.038129\n",
      "[32]\tvalidation_0-mae:0.038113\n",
      "[33]\tvalidation_0-mae:0.038295\n",
      "[34]\tvalidation_0-mae:0.038553\n",
      "[35]\tvalidation_0-mae:0.038717\n",
      "[36]\tvalidation_0-mae:0.03888\n",
      "[37]\tvalidation_0-mae:0.039104\n",
      "Stopping. Best iteration:\n",
      "[32]\tvalidation_0-mae:0.038113\n",
      "\n",
      "[17:09:39] WARNING: C:/Jenkins/workspace/xgboost-win64_release_0.90/src/objective/regression_obj.cu:152: reg:linear is now deprecated in favor of reg:squarederror.\n",
      "[0]\tvalidation_0-mae:0.244809\n",
      "Will train until validation_0-mae hasn't improved in 5 rounds.\n",
      "[1]\tvalidation_0-mae:0.22153\n",
      "[2]\tvalidation_0-mae:0.198704\n",
      "[3]\tvalidation_0-mae:0.179265\n",
      "[4]\tvalidation_0-mae:0.158941\n",
      "[5]\tvalidation_0-mae:0.142865\n",
      "[6]\tvalidation_0-mae:0.128755\n",
      "[7]\tvalidation_0-mae:0.115487\n",
      "[8]\tvalidation_0-mae:0.103063\n",
      "[9]\tvalidation_0-mae:0.09242\n",
      "[10]\tvalidation_0-mae:0.083429\n",
      "[11]\tvalidation_0-mae:0.074487\n",
      "[12]\tvalidation_0-mae:0.067513\n",
      "[13]\tvalidation_0-mae:0.061055\n",
      "[14]\tvalidation_0-mae:0.056492\n",
      "[15]\tvalidation_0-mae:0.052136\n",
      "[16]\tvalidation_0-mae:0.048991\n",
      "[17]\tvalidation_0-mae:0.046034\n",
      "[18]\tvalidation_0-mae:0.04427\n",
      "[19]\tvalidation_0-mae:0.042439\n",
      "[20]\tvalidation_0-mae:0.040819\n",
      "[21]\tvalidation_0-mae:0.038585\n",
      "[22]\tvalidation_0-mae:0.03798\n",
      "[23]\tvalidation_0-mae:0.03744\n",
      "[24]\tvalidation_0-mae:0.037303\n",
      "[25]\tvalidation_0-mae:0.037657\n",
      "[26]\tvalidation_0-mae:0.037483\n",
      "[27]\tvalidation_0-mae:0.037325\n",
      "[28]\tvalidation_0-mae:0.037326\n",
      "[29]\tvalidation_0-mae:0.037266\n",
      "[30]\tvalidation_0-mae:0.037372\n",
      "[31]\tvalidation_0-mae:0.03751\n",
      "[32]\tvalidation_0-mae:0.037397\n",
      "[33]\tvalidation_0-mae:0.037923\n",
      "[34]\tvalidation_0-mae:0.038185\n",
      "Stopping. Best iteration:\n",
      "[29]\tvalidation_0-mae:0.037266\n",
      "\n",
      "[17:09:39] WARNING: C:/Jenkins/workspace/xgboost-win64_release_0.90/src/objective/regression_obj.cu:152: reg:linear is now deprecated in favor of reg:squarederror.\n",
      "[0]\tvalidation_0-mae:0.246059\n",
      "Will train until validation_0-mae hasn't improved in 5 rounds.\n",
      "[1]\tvalidation_0-mae:0.221045\n",
      "[2]\tvalidation_0-mae:0.199007\n",
      "[3]\tvalidation_0-mae:0.179815\n",
      "[4]\tvalidation_0-mae:0.162057\n",
      "[5]\tvalidation_0-mae:0.144676\n",
      "[6]\tvalidation_0-mae:0.13096\n",
      "[7]\tvalidation_0-mae:0.118478\n",
      "[8]\tvalidation_0-mae:0.105835\n",
      "[9]\tvalidation_0-mae:0.096756\n",
      "[10]\tvalidation_0-mae:0.08693\n",
      "[11]\tvalidation_0-mae:0.08039\n",
      "[12]\tvalidation_0-mae:0.074331\n",
      "[13]\tvalidation_0-mae:0.068825\n",
      "[14]\tvalidation_0-mae:0.064939\n",
      "[15]\tvalidation_0-mae:0.060482\n",
      "[16]\tvalidation_0-mae:0.056199\n",
      "[17]\tvalidation_0-mae:0.053452\n",
      "[18]\tvalidation_0-mae:0.050812\n",
      "[19]\tvalidation_0-mae:0.048123\n",
      "[20]\tvalidation_0-mae:0.046017\n",
      "[21]\tvalidation_0-mae:0.044663\n",
      "[22]\tvalidation_0-mae:0.043314\n",
      "[23]\tvalidation_0-mae:0.042845\n",
      "[24]\tvalidation_0-mae:0.042133\n",
      "[25]\tvalidation_0-mae:0.041814\n",
      "[26]\tvalidation_0-mae:0.041555\n",
      "[27]\tvalidation_0-mae:0.04167\n",
      "[28]\tvalidation_0-mae:0.041574\n",
      "[29]\tvalidation_0-mae:0.041372\n",
      "[30]\tvalidation_0-mae:0.041467\n",
      "[31]\tvalidation_0-mae:0.041506\n",
      "[32]\tvalidation_0-mae:0.04144\n",
      "[33]\tvalidation_0-mae:0.041572\n",
      "[34]\tvalidation_0-mae:0.041616\n",
      "Stopping. Best iteration:\n",
      "[29]\tvalidation_0-mae:0.041372\n",
      "\n",
      "[17:09:39] WARNING: C:/Jenkins/workspace/xgboost-win64_release_0.90/src/objective/regression_obj.cu:152: reg:linear is now deprecated in favor of reg:squarederror.\n",
      "[0]\tvalidation_0-mae:0.247318\n",
      "Will train until validation_0-mae hasn't improved in 5 rounds.\n",
      "[1]\tvalidation_0-mae:0.223672\n",
      "[2]\tvalidation_0-mae:0.200585\n",
      "[3]\tvalidation_0-mae:0.179281\n",
      "[4]\tvalidation_0-mae:0.159302\n",
      "[5]\tvalidation_0-mae:0.142173\n",
      "[6]\tvalidation_0-mae:0.128053\n",
      "[7]\tvalidation_0-mae:0.116862\n",
      "[8]\tvalidation_0-mae:0.10233\n",
      "[9]\tvalidation_0-mae:0.092652\n",
      "[10]\tvalidation_0-mae:0.084854\n",
      "[11]\tvalidation_0-mae:0.077662\n",
      "[12]\tvalidation_0-mae:0.068953\n",
      "[13]\tvalidation_0-mae:0.06415\n",
      "[14]\tvalidation_0-mae:0.060445\n",
      "[15]\tvalidation_0-mae:0.057036\n",
      "[16]\tvalidation_0-mae:0.05284\n",
      "[17]\tvalidation_0-mae:0.049276\n",
      "[18]\tvalidation_0-mae:0.045616\n",
      "[19]\tvalidation_0-mae:0.042548\n",
      "[20]\tvalidation_0-mae:0.040193\n",
      "[21]\tvalidation_0-mae:0.037903\n",
      "[22]\tvalidation_0-mae:0.035518\n",
      "[23]\tvalidation_0-mae:0.03452\n",
      "[24]\tvalidation_0-mae:0.033757\n",
      "[25]\tvalidation_0-mae:0.033481\n",
      "[26]\tvalidation_0-mae:0.033243\n",
      "[27]\tvalidation_0-mae:0.03317\n",
      "[28]\tvalidation_0-mae:0.033092\n",
      "[29]\tvalidation_0-mae:0.032908\n",
      "[30]\tvalidation_0-mae:0.032942\n",
      "[31]\tvalidation_0-mae:0.032658\n",
      "[32]\tvalidation_0-mae:0.032283\n",
      "[33]\tvalidation_0-mae:0.032059\n",
      "[34]\tvalidation_0-mae:0.033023\n",
      "[35]\tvalidation_0-mae:0.033237\n",
      "[36]\tvalidation_0-mae:0.033705\n",
      "[37]\tvalidation_0-mae:0.034208\n",
      "[38]\tvalidation_0-mae:0.034624\n",
      "Stopping. Best iteration:\n",
      "[33]\tvalidation_0-mae:0.032059\n",
      "\n"
     ]
    },
    {
     "name": "stderr",
     "output_type": "stream",
     "text": [
      "[Parallel(n_jobs=1)]: Done   6 out of   6 | elapsed:    0.6s finished\n"
     ]
    },
    {
     "data": {
      "text/plain": [
       "GridSearchCV(cv=3, error_score=nan,\n",
       "             estimator=XGBRegressor(base_score=0.5, booster='gbtree',\n",
       "                                    colsample_bylevel=1, colsample_bynode=1,\n",
       "                                    colsample_bytree=1, gamma=0,\n",
       "                                    importance_type='gain', learning_rate=0.1,\n",
       "                                    max_delta_step=0, max_depth=3,\n",
       "                                    min_child_weight=1, missing=None,\n",
       "                                    n_estimators=100, n_jobs=1, nthread=None,\n",
       "                                    objective='reg:linear', random_state=0,\n",
       "                                    reg_alpha=0, reg_lambda=1,\n",
       "                                    scale_pos_weight=1, seed=None, silent=None,\n",
       "                                    subsample=1, verbosity=1),\n",
       "             iid='deprecated', n_jobs=None,\n",
       "             param_grid={'subsample': [0.5, 0.8]}, pre_dispatch='2*n_jobs',\n",
       "             refit=True, return_train_score=False, scoring=None, verbose=1)"
      ]
     },
     "execution_count": 39,
     "metadata": {},
     "output_type": "execute_result"
    }
   ],
   "source": [
    "from sklearn.model_selection import GridSearchCV\n",
    "from sklearn.model_selection import TimeSeriesSplit\n",
    "\n",
    "cv = 3\n",
    "\n",
    "paramGrid = {\"subsample\" : [0.5, 0.8]}\n",
    "\n",
    "fit_params={\"early_stopping_rounds\":5, \n",
    "            \"eval_metric\" : \"mae\", \n",
    "            \"eval_set\" : [[X_val, y_val]]}\n",
    "\n",
    "model = xgboost.XGBRegressor()\n",
    "\n",
    "gridsearch = GridSearchCV(model, paramGrid, verbose=1,             \n",
    "         cv=TimeSeriesSplit(n_splits=cv).get_n_splits([X_train, y_train]), \n",
    "                         refit=True)\n",
    "\n",
    "gridsearch.fit(X_train, y_train, **fit_params)"
   ]
  },
  {
   "cell_type": "markdown",
   "metadata": {},
   "source": [
    "## How I normally do it (code not executable!)..."
   ]
  },
  {
   "cell_type": "code",
   "execution_count": 40,
   "metadata": {
    "ExecuteTime": {
     "end_time": "2022-02-22T16:09:40.172585Z",
     "start_time": "2022-02-22T16:09:40.100588Z"
    }
   },
   "outputs": [],
   "source": [
    "def feature_selection(model, param, train, val):\n",
    "    # Get labels and features.\n",
    "    x_trn, y_trn = train\n",
    "    x_val, y_val = val\n",
    "\n",
    "    # Make predictions for test data and evaluate\n",
    "    y_pred_trn = model.predict(x_trn)\n",
    "    y_pred_val = model.predict(x_val)\n",
    "    trn_err    = np.sqrt(mean_squared_error(y_trn, y_pred_trn))\n",
    "    val_err    = np.sqrt(mean_squared_error(y_val, y_pred_val))\n",
    "\n",
    "    # Fit model using each importance as a threshold\n",
    "    thresholds = np.sort(model.feature_importances_)\n",
    "    thresholds = thresholds[thresholds > 0.0]\n",
    "\n",
    "    # Initiate Best Parameters.\n",
    "    best_model     = model\n",
    "    best_selection = SelectFromModel(model ,threshold=0, prefit=True)\n",
    "    best_val_err   = val_err\n",
    "    best_trn_err   = trn_err\n",
    "\n",
    "    for thresh in thresholds:\n",
    "        # Select features using threshold\n",
    "        selection = SelectFromModel(model, threshold=thresh, prefit=True)\n",
    "        x_trn_sel = selection.transform(x_trn)\n",
    "        x_val_sel = selection.transform(x_val)\n",
    "        x_trn_sel = pd.DataFrame(x_trn_sel, columns=list(x_trn.columns[selection.get_support()]))\n",
    "        x_val_sel = pd.DataFrame(x_val_sel, columns=list(x_val.columns[selection.get_support()]))\n",
    "\n",
    "        # Train model\n",
    "        selection_model = XGBRegressor(\n",
    "            learning_rate    = param['learning_rate'],\n",
    "            n_estimators     = param['n_estimators'],\n",
    "            max_depth        = param['max_depth'],\n",
    "            min_child_weight = param['min_child_weight'],\n",
    "            gamma            = param['gamma'],\n",
    "            subsample        = param['subsample'],\n",
    "            colsample_bytree = param['colsample_bytree'],\n",
    "            nthread          = param['nthread'],\n",
    "            scale_pos_weight = param['scale_pos_weight'],\n",
    "            seed             = param['seed'],\n",
    "            objective        = param['objective']\n",
    "        )\n",
    "\n",
    "        selection_model.fit(x_trn_sel, y_trn,\n",
    "                            eval_set=[(x_trn_sel, y_trn), (x_val_sel, y_val)],\n",
    "                            early_stopping_rounds=50,\n",
    "                            eval_metric = 'rmse',\n",
    "                            verbose=False)\n",
    "\n",
    "        # Eval model\n",
    "        y_pred_trn = selection_model.predict(x_trn_sel)\n",
    "        y_pred_val = selection_model.predict(x_val_sel)\n",
    "        trn_err    = np.sqrt(mean_squared_error(y_trn, y_pred_trn))\n",
    "        val_err    = np.sqrt(mean_squared_error(y_val, y_pred_val))\n",
    "\n",
    "        # Determine selection with smallest error.\n",
    "        if (val_err < best_val_err) :\n",
    "            best_model = selection_model\n",
    "            best_selection = selection\n",
    "\n",
    "            best_val_err = val_err\n",
    "            best_trn_err = trn_err\n",
    "\n",
    "    return best_model, best_selection, best_val_err, best_trn_err\n",
    "\n",
    "def XGB_fit(train, val, param):\n",
    "    import warnings\n",
    "    warnings.simplefilter(action='ignore', category=FutureWarning)\n",
    "\n",
    "    model = XGBRegressor(\n",
    "        learning_rate    = param['learning_rate'],\n",
    "        n_estimators     = param['n_estimators'],\n",
    "        max_depth        = param['max_depth'],\n",
    "        min_child_weight = param['min_child_weight'],\n",
    "        gamma            = param['gamma'],\n",
    "        subsample        = param['subsample'],\n",
    "        colsample_bytree = param['colsample_bytree'],\n",
    "        nthread          = param['nthread'],\n",
    "        scale_pos_weight = param['scale_pos_weight'],\n",
    "        seed             = param['seed'],\n",
    "        objective        = param['objective']\n",
    "    )\n",
    "\n",
    "    model.fit(train[0], train[1],\n",
    "                eval_set=[(train[0], train[1]), (val[0], val[1])],\n",
    "                early_stopping_rounds=50,\n",
    "                eval_metric = 'rmse',\n",
    "                verbose=False)\n",
    "\n",
    "    model, selection, val_error, trn_error = feature_selection(model, param, train, val)\n",
    "    return model, param, selection, val_error, trn_error"
   ]
  },
  {
   "cell_type": "code",
   "execution_count": 41,
   "metadata": {
    "ExecuteTime": {
     "end_time": "2022-02-22T16:09:40.200587Z",
     "start_time": "2022-02-22T16:09:40.182583Z"
    }
   },
   "outputs": [],
   "source": [
    "# param_test = config['param_test']\n",
    "\n",
    "# configurations = []\n",
    "# for a in param_test['learning_rate']:\n",
    "#     for b in param_test['n_estimators']:\n",
    "#         for c in param_test['max_depth']:\n",
    "#             for d in param_test['min_child_weight']:\n",
    "#                 for e in param_test['gamma']:\n",
    "#                     for f in param_test['subsample']:\n",
    "#                         for g in param_test['colsample_bytree']:\n",
    "#                             for h in param_test['nthread']:\n",
    "#                                 for i in param_test['scale_pos_weight']:\n",
    "#                                     for j in param_test['seed']:\n",
    "#                                         param = {'learning_rate'    : a,\n",
    "#                                                 'n_estimators'     : b,\n",
    "#                                                 'max_depth'        : c,\n",
    "#                                                 'min_child_weight' : d,\n",
    "#                                                 'gamma'            : e,\n",
    "#                                                 'subsample'        : f,\n",
    "#                                                 'colsample_bytree' : g,\n",
    "#                                                 'nthread'          : h,\n",
    "#                                                 'scale_pos_weight' : i,\n",
    "#                                                 'seed'             : j,\n",
    "#                                                 'objective'        : 'reg:squarederror'}\n",
    "#                                         configurations.append(param)\n",
    "\n",
    "# print('Size of configuration space : ', len(configurations))\n",
    "\n",
    "# train = (X_train, y_train)\n",
    "# val   = (X_val, y_val)\n",
    "# test  = (X_test, y_test)\n",
    "\n",
    "# #with parallel_backend('multiprocessing'): #threading\n",
    "# models, params, selections, val_errors, trn_errors = zip(*Parallel(\n",
    "#                                                                 n_jobs=-1,\n",
    "#                                                                 verbose=50,\n",
    "#                                                                 backend='multiprocessing'#\"loky\"\n",
    "#                                                             )(\n",
    "#                                                                 map(delayed(XGB_fit),\n",
    "#                                                                 [train]*len(configurations),\n",
    "#                                                                 [val]*len(configurations),\n",
    "#                                                                 configurations)\n",
    "#                                                             )\n",
    "#                                                         )\n",
    "\n",
    "# print(\"\")\n",
    "# print(\"All parameter configurations finished evaluating!\")\n",
    "# feat = []\n",
    "# for i in range(len(configurations)):\n",
    "#     support = train[0].columns[selections[i].get_support()]\n",
    "#     feat.append(len(support))\n",
    "\n",
    "# experiments = pd.DataFrame.from_dict({'params': configurations,\n",
    "#                                         '# features' : feat,\n",
    "#                                         'TrainingError': trn_errors,\n",
    "#                                         'ValidationError': val_errors}).sort_values('ValidationError').reset_index()\n",
    "\n",
    "# index_min = np.argmin(val_errors)\n",
    "\n",
    "# best_model = models[index_min]\n",
    "# best_param = params[index_min]\n",
    "# best_selection = selections[index_min]\n",
    "\n",
    "# x_trn_sel = pd.DataFrame(best_selection.transform(train[0]), columns=list(train[0].columns[best_selection.get_support()]))\n",
    "# x_val_sel = pd.DataFrame(best_selection.transform(val[0]), columns=list(val[0].columns[best_selection.get_support()]))\n",
    "# x_test_sel = pd.DataFrame(best_selection.transform(test[0]), columns=list(test[0].columns[best_selection.get_support()]))\n",
    "\n",
    "# # feature importance:\n",
    "# print(\"\")\n",
    "# print(\"BEST RESULT\")\n",
    "# print(\"Best Parameters:\")\n",
    "# print(best_param)\n",
    "\n",
    "# # Print best feature selection.\n",
    "# print(\"\")\n",
    "# print(\"Best Features with Importance:\")\n",
    "# imp_xgb = pd.DataFrame.from_dict({'feature': list(x_trn_sel.columns),\n",
    "#                             'importance': list(best_model.feature_importances_)})\n",
    "# imp_xgb = imp_xgb.sort_values(by = 'importance', ascending = False).reset_index(drop = True)\n",
    "# print('Feature importance: ', imp_xgb)\n",
    "\n",
    "# # Refit an estimator using the best found parameters on the whole dataset.\n",
    "# X_train_final = pd.concat([x_trn_sel,x_val_sel], axis = 0)\n",
    "# y_train_final = np.concatenate([y_train,y_val], axis = 0)\n",
    "# best_model.fit(X_train_final, y_train_final, verbose = True)\n",
    "\n",
    "# # Store the prediction of the Model for train/val/test.\n",
    "# prediction        = best_model.predict(x_trn_sel)\n"
   ]
  },
  {
   "cell_type": "markdown",
   "metadata": {},
   "source": [
    "## XGBoost Execution Time"
   ]
  },
  {
   "cell_type": "markdown",
   "metadata": {},
   "source": [
    "Look at the difference in execution time between XGBoost and scikit-learn's GradientBoosting API:"
   ]
  },
  {
   "cell_type": "code",
   "execution_count": 42,
   "metadata": {
    "ExecuteTime": {
     "end_time": "2022-02-22T16:09:42.844594Z",
     "start_time": "2022-02-22T16:09:41.510587Z"
    }
   },
   "outputs": [
    {
     "name": "stdout",
     "output_type": "stream",
     "text": [
      "14.7 ms ± 1.74 ms per loop (mean ± std. dev. of 7 runs, 10 loops each)\n"
     ]
    }
   ],
   "source": [
    "import warnings\n",
    "warnings.simplefilter(action='ignore', category=FutureWarning)\n",
    "\n",
    "%timeit xgboost.XGBRegressor(verbosity = 0).fit(X_train, y_train) if xgboost is not None else None"
   ]
  },
  {
   "cell_type": "code",
   "execution_count": 43,
   "metadata": {
    "ExecuteTime": {
     "end_time": "2022-02-22T16:09:47.636611Z",
     "start_time": "2022-02-22T16:09:42.849601Z"
    }
   },
   "outputs": [
    {
     "name": "stdout",
     "output_type": "stream",
     "text": [
      "60 ms ± 6.47 ms per loop (mean ± std. dev. of 7 runs, 10 loops each)\n"
     ]
    }
   ],
   "source": [
    "%timeit GradientBoostingRegressor().fit(X_train, y_train)"
   ]
  },
  {
   "cell_type": "markdown",
   "metadata": {},
   "source": [
    "## Hyperparameter Search with XGBoost "
   ]
  },
  {
   "cell_type": "code",
   "execution_count": 44,
   "metadata": {
    "ExecuteTime": {
     "end_time": "2022-02-22T16:09:47.777607Z",
     "start_time": "2022-02-22T16:09:47.643605Z"
    }
   },
   "outputs": [],
   "source": [
    "import yaml\n",
    "# load configuration file\n",
    "with open('config.yml', 'r') as file:\n",
    "    config = yaml.safe_load(file)"
   ]
  },
  {
   "cell_type": "code",
   "execution_count": 45,
   "metadata": {
    "ExecuteTime": {
     "end_time": "2022-02-22T16:09:47.797610Z",
     "start_time": "2022-02-22T16:09:47.782610Z"
    }
   },
   "outputs": [
    {
     "data": {
      "text/plain": [
       "{'learning_rate': [0.1],\n",
       " 'n_estimators': [100, 200],\n",
       " 'max_depth': [5, 6, 7, 8],\n",
       " 'min_child_weight': [2, 3, 4, 5, 6],\n",
       " 'gamma': [0],\n",
       " 'subsample': [0.8, 0.9, 1.0],\n",
       " 'colsample_bytree': [0.8, 0.9, 1.0],\n",
       " 'nthread': [-1],\n",
       " 'scale_pos_weight': [1],\n",
       " 'seed': [42]}"
      ]
     },
     "execution_count": 45,
     "metadata": {},
     "output_type": "execute_result"
    }
   ],
   "source": [
    "config"
   ]
  },
  {
   "cell_type": "code",
   "execution_count": 46,
   "metadata": {
    "ExecuteTime": {
     "end_time": "2022-02-22T16:09:47.832610Z",
     "start_time": "2022-02-22T16:09:47.803607Z"
    }
   },
   "outputs": [
    {
     "data": {
      "text/plain": [
       "[0.1]"
      ]
     },
     "execution_count": 46,
     "metadata": {},
     "output_type": "execute_result"
    }
   ],
   "source": [
    "config['learning_rate']"
   ]
  },
  {
   "cell_type": "code",
   "execution_count": 47,
   "metadata": {
    "ExecuteTime": {
     "end_time": "2022-02-22T16:09:47.927611Z",
     "start_time": "2022-02-22T16:09:47.859618Z"
    }
   },
   "outputs": [
    {
     "name": "stdout",
     "output_type": "stream",
     "text": [
      "Size of configuration space :  360\n"
     ]
    }
   ],
   "source": [
    "configurations = []\n",
    "for a in config['learning_rate']:\n",
    "    for b in config['n_estimators']:\n",
    "        for c in config['max_depth']:\n",
    "            for d in config['min_child_weight']:\n",
    "                for e in config['gamma']:\n",
    "                    for f in config['subsample']:\n",
    "                        for g in config['colsample_bytree']:\n",
    "                            for h in config['nthread']:\n",
    "                                for i in config['scale_pos_weight']:\n",
    "                                    for j in config['seed']:\n",
    "                                        param = {'learning_rate'    : a,\n",
    "                                                'n_estimators'     : b,\n",
    "                                                'max_depth'        : c,\n",
    "                                                'min_child_weight' : d,\n",
    "                                                'gamma'            : e,\n",
    "                                                'subsample'        : f,\n",
    "                                                'colsample_bytree' : g,\n",
    "                                                'nthread'          : h,\n",
    "                                                'scale_pos_weight' : i,\n",
    "                                                'seed'             : j,\n",
    "                                                'objective'        : 'reg:squarederror'}\n",
    "                                        configurations.append(param)\n",
    "\n",
    "print('Size of configuration space : ', len(configurations))"
   ]
  },
  {
   "cell_type": "code",
   "execution_count": 48,
   "metadata": {
    "ExecuteTime": {
     "end_time": "2022-02-22T16:09:47.962611Z",
     "start_time": "2022-02-22T16:09:47.935612Z"
    }
   },
   "outputs": [
    {
     "name": "stdout",
     "output_type": "stream",
     "text": [
      "{'learning_rate': 0.1, 'n_estimators': 100, 'max_depth': 5, 'min_child_weight': 2, 'gamma': 0, 'subsample': 0.8, 'colsample_bytree': 0.8, 'nthread': -1, 'scale_pos_weight': 1, 'seed': 42, 'objective': 'reg:squarederror'}\n"
     ]
    }
   ],
   "source": [
    "config = configurations[0]\n",
    "print(config)"
   ]
  },
  {
   "cell_type": "code",
   "execution_count": 49,
   "metadata": {
    "ExecuteTime": {
     "end_time": "2022-02-22T16:09:47.999610Z",
     "start_time": "2022-02-22T16:09:47.974612Z"
    }
   },
   "outputs": [],
   "source": [
    "model = xgboost.XGBRegressor(\n",
    "    learning_rate    = config['learning_rate'],\n",
    "    n_estimators     = config['n_estimators'], # set it to high value = 500\n",
    "    max_depth        = config['max_depth'], # max_depth = 6,7...,13,14 - 20\n",
    "    min_child_weight = config['min_child_weight'], # prevent overfitting\n",
    "    gamma            = config['gamma'],\n",
    "    subsample        = config['subsample'],\n",
    "    colsample_bytree = config['colsample_bytree'],\n",
    "    nthread          = config['nthread'], # number of cores = -1\n",
    "    scale_pos_weight = config['scale_pos_weight'],\n",
    "    seed             = config['seed'],\n",
    "    verbosity=0\n",
    ")"
   ]
  },
  {
   "cell_type": "code",
   "execution_count": 50,
   "metadata": {
    "ExecuteTime": {
     "end_time": "2022-02-22T16:09:48.079611Z",
     "start_time": "2022-02-22T16:09:48.010610Z"
    }
   },
   "outputs": [
    {
     "data": {
      "text/plain": [
       "XGBRegressor(base_score=0.5, booster='gbtree', colsample_bylevel=1,\n",
       "             colsample_bynode=1, colsample_bytree=0.8, gamma=0,\n",
       "             importance_type='gain', learning_rate=0.1, max_delta_step=0,\n",
       "             max_depth=5, min_child_weight=2, missing=None, n_estimators=100,\n",
       "             n_jobs=1, nthread=-1, objective='reg:linear', random_state=0,\n",
       "             reg_alpha=0, reg_lambda=1, scale_pos_weight=1, seed=42,\n",
       "             silent=None, subsample=0.8, verbosity=0)"
      ]
     },
     "execution_count": 50,
     "metadata": {},
     "output_type": "execute_result"
    }
   ],
   "source": [
    "model.fit(X_train, y_train,\n",
    "            eval_set=[(X_val, y_val)],\n",
    "            early_stopping_rounds=50,\n",
    "            eval_metric = 'rmse',\n",
    "            verbose=False\n",
    "         )"
   ]
  },
  {
   "cell_type": "code",
   "execution_count": 51,
   "metadata": {
    "ExecuteTime": {
     "end_time": "2022-02-22T16:09:48.100619Z",
     "start_time": "2022-02-22T16:09:48.085609Z"
    }
   },
   "outputs": [
    {
     "name": "stdout",
     "output_type": "stream",
     "text": [
      "0.03658531146264678\n",
      "0.04792059842848981\n"
     ]
    }
   ],
   "source": [
    "# Eval model\n",
    "y_pred_trn = model.predict(X_train)\n",
    "y_pred_val = model.predict(X_val)\n",
    "trn_err    = np.sqrt(mean_squared_error(y_train, y_pred_trn))\n",
    "val_err    = np.sqrt(mean_squared_error(y_val, y_pred_val))\n",
    "\n",
    "print(trn_err)\n",
    "print(val_err)"
   ]
  },
  {
   "cell_type": "markdown",
   "metadata": {},
   "source": [
    "# LightGMB"
   ]
  },
  {
   "cell_type": "markdown",
   "metadata": {},
   "source": [
    "A couple of years ago, Microsoft announced its gradient boosting framework LightGBM. Nowadays, it steals the spotlight in gradient boosting machines. Kagglers start to use LightGBM more than XGBoost. **LightGBM is 6 times faster than XGBoost.**\n",
    "\n",
    "The size of datasets is increasing rapidly. It is become very difficult for traditional data science algorithms to give accurate results. Light GBM is prefixed as Light because of its high speed. Light GBM can handle the large size of data and takes lower memory to run.\n",
    "\n",
    "LightGBM is a gradient boosting framework that uses tree based learning algorithms. It is designed to be distributed and efficient with the following advantages:\n",
    "\n",
    "*    Faster training speed and higher efficiency.\n",
    "\n",
    "*    Lower memory usage.\n",
    "\n",
    "*    Better accuracy.\n",
    "\n",
    "*    Support of parallel and GPU learning.\n",
    "\n",
    "*    Capable of handling large-scale data.\n",
    "\n",
    "More information in this nice kaggle notebook: https://www.kaggle.com/prashant111/lightgbm-classifier-in-python.\n",
    "\n",
    "Also going through the docs is helpful: https://lightgbm.readthedocs.io/en/latest/#."
   ]
  },
  {
   "cell_type": "code",
   "execution_count": 52,
   "metadata": {
    "ExecuteTime": {
     "end_time": "2022-02-22T16:09:48.204609Z",
     "start_time": "2022-02-22T16:09:48.108610Z"
    }
   },
   "outputs": [],
   "source": [
    "import lightgbm as lgb"
   ]
  },
  {
   "cell_type": "markdown",
   "metadata": {},
   "source": [
    "The LightGBM Python module can load data from:\n",
    "\n",
    "*    LibSVM (zero-based) / TSV / CSV / TXT format file\n",
    "\n",
    "*    NumPy 2D array(s), pandas DataFrame, H2O DataTable’s Frame, SciPy sparse matrix\n",
    "\n",
    "*    LightGBM binary file\n",
    "\n",
    "*    LightGBM Sequence object(s)\n",
    "\n",
    "The data is stored in a `Dataset` object."
   ]
  },
  {
   "cell_type": "markdown",
   "metadata": {},
   "source": [
    "## First Example"
   ]
  },
  {
   "cell_type": "code",
   "execution_count": 53,
   "metadata": {
    "ExecuteTime": {
     "end_time": "2022-02-22T16:09:48.267611Z",
     "start_time": "2022-02-22T16:09:48.213612Z"
    }
   },
   "outputs": [
    {
     "data": {
      "text/html": [
       "<div>\n",
       "<style scoped>\n",
       "    .dataframe tbody tr th:only-of-type {\n",
       "        vertical-align: middle;\n",
       "    }\n",
       "\n",
       "    .dataframe tbody tr th {\n",
       "        vertical-align: top;\n",
       "    }\n",
       "\n",
       "    .dataframe thead th {\n",
       "        text-align: right;\n",
       "    }\n",
       "</style>\n",
       "<table border=\"1\" class=\"dataframe\">\n",
       "  <thead>\n",
       "    <tr style=\"text-align: right;\">\n",
       "      <th></th>\n",
       "      <th>mean_radius</th>\n",
       "      <th>mean_texture</th>\n",
       "      <th>mean_perimeter</th>\n",
       "      <th>mean_area</th>\n",
       "      <th>mean_smoothness</th>\n",
       "      <th>diagnosis</th>\n",
       "    </tr>\n",
       "  </thead>\n",
       "  <tbody>\n",
       "    <tr>\n",
       "      <th>0</th>\n",
       "      <td>17.99</td>\n",
       "      <td>10.38</td>\n",
       "      <td>122.80</td>\n",
       "      <td>1001.0</td>\n",
       "      <td>0.11840</td>\n",
       "      <td>0</td>\n",
       "    </tr>\n",
       "    <tr>\n",
       "      <th>1</th>\n",
       "      <td>20.57</td>\n",
       "      <td>17.77</td>\n",
       "      <td>132.90</td>\n",
       "      <td>1326.0</td>\n",
       "      <td>0.08474</td>\n",
       "      <td>0</td>\n",
       "    </tr>\n",
       "    <tr>\n",
       "      <th>2</th>\n",
       "      <td>19.69</td>\n",
       "      <td>21.25</td>\n",
       "      <td>130.00</td>\n",
       "      <td>1203.0</td>\n",
       "      <td>0.10960</td>\n",
       "      <td>0</td>\n",
       "    </tr>\n",
       "    <tr>\n",
       "      <th>3</th>\n",
       "      <td>11.42</td>\n",
       "      <td>20.38</td>\n",
       "      <td>77.58</td>\n",
       "      <td>386.1</td>\n",
       "      <td>0.14250</td>\n",
       "      <td>0</td>\n",
       "    </tr>\n",
       "    <tr>\n",
       "      <th>4</th>\n",
       "      <td>20.29</td>\n",
       "      <td>14.34</td>\n",
       "      <td>135.10</td>\n",
       "      <td>1297.0</td>\n",
       "      <td>0.10030</td>\n",
       "      <td>0</td>\n",
       "    </tr>\n",
       "  </tbody>\n",
       "</table>\n",
       "</div>"
      ],
      "text/plain": [
       "   mean_radius  mean_texture  mean_perimeter  mean_area  mean_smoothness  \\\n",
       "0        17.99         10.38          122.80     1001.0          0.11840   \n",
       "1        20.57         17.77          132.90     1326.0          0.08474   \n",
       "2        19.69         21.25          130.00     1203.0          0.10960   \n",
       "3        11.42         20.38           77.58      386.1          0.14250   \n",
       "4        20.29         14.34          135.10     1297.0          0.10030   \n",
       "\n",
       "   diagnosis  \n",
       "0          0  \n",
       "1          0  \n",
       "2          0  \n",
       "3          0  \n",
       "4          0  "
      ]
     },
     "execution_count": 53,
     "metadata": {},
     "output_type": "execute_result"
    }
   ],
   "source": [
    "# load and preview data\n",
    "df = pd.read_csv('Breast_cancer_data.csv')\n",
    "df.head()"
   ]
  },
  {
   "cell_type": "code",
   "execution_count": 54,
   "metadata": {
    "ExecuteTime": {
     "end_time": "2022-02-22T16:09:48.290610Z",
     "start_time": "2022-02-22T16:09:48.274609Z"
    }
   },
   "outputs": [],
   "source": [
    "X = df[['mean_radius','mean_texture','mean_perimeter','mean_area','mean_smoothness']]\n",
    "y = df['diagnosis']"
   ]
  },
  {
   "cell_type": "code",
   "execution_count": 55,
   "metadata": {
    "ExecuteTime": {
     "end_time": "2022-02-22T16:09:48.320610Z",
     "start_time": "2022-02-22T16:09:48.297614Z"
    }
   },
   "outputs": [],
   "source": [
    "from sklearn.model_selection import train_test_split\n",
    "X_train, X_val, y_train, y_val = train_test_split(X, y, test_size = 0.3, random_state = 0)"
   ]
  },
  {
   "cell_type": "code",
   "execution_count": 56,
   "metadata": {
    "ExecuteTime": {
     "end_time": "2022-02-22T16:09:48.467612Z",
     "start_time": "2022-02-22T16:09:48.327611Z"
    }
   },
   "outputs": [
    {
     "data": {
      "text/plain": [
       "LGBMClassifier(boosting_type='gbdt', class_weight=None, colsample_bytree=1.0,\n",
       "               importance_type='split', learning_rate=0.1, max_depth=-1,\n",
       "               min_child_samples=20, min_child_weight=0.001, min_split_gain=0.0,\n",
       "               n_estimators=100, n_jobs=-1, num_leaves=31, objective=None,\n",
       "               random_state=None, reg_alpha=0.0, reg_lambda=0.0, silent=True,\n",
       "               subsample=1.0, subsample_for_bin=200000, subsample_freq=0)"
      ]
     },
     "execution_count": 56,
     "metadata": {},
     "output_type": "execute_result"
    }
   ],
   "source": [
    "# build the lightgbm model\n",
    "import lightgbm as lgb\n",
    "clf = lgb.LGBMClassifier()\n",
    "clf.fit(X_train, y_train)"
   ]
  },
  {
   "cell_type": "code",
   "execution_count": 57,
   "metadata": {
    "ExecuteTime": {
     "end_time": "2022-02-22T16:09:48.507628Z",
     "start_time": "2022-02-22T16:09:48.474615Z"
    }
   },
   "outputs": [
    {
     "ename": "NameError",
     "evalue": "name 'X_test' is not defined",
     "output_type": "error",
     "traceback": [
      "\u001b[1;31m---------------------------------------------------------------------------\u001b[0m",
      "\u001b[1;31mNameError\u001b[0m                                 Traceback (most recent call last)",
      "\u001b[1;32m<ipython-input-57-16feb6f98d74>\u001b[0m in \u001b[0;36m<module>\u001b[1;34m\u001b[0m\n\u001b[0;32m      1\u001b[0m \u001b[1;31m# predict the results\u001b[0m\u001b[1;33m\u001b[0m\u001b[1;33m\u001b[0m\u001b[1;33m\u001b[0m\u001b[0m\n\u001b[1;32m----> 2\u001b[1;33m \u001b[0my_pred\u001b[0m\u001b[1;33m=\u001b[0m\u001b[0mclf\u001b[0m\u001b[1;33m.\u001b[0m\u001b[0mpredict\u001b[0m\u001b[1;33m(\u001b[0m\u001b[0mX_test\u001b[0m\u001b[1;33m)\u001b[0m\u001b[1;33m\u001b[0m\u001b[1;33m\u001b[0m\u001b[0m\n\u001b[0m",
      "\u001b[1;31mNameError\u001b[0m: name 'X_test' is not defined"
     ]
    }
   ],
   "source": [
    "# predict the results\n",
    "y_pred=clf.predict(X_test)"
   ]
  },
  {
   "cell_type": "code",
   "execution_count": null,
   "metadata": {
    "ExecuteTime": {
     "end_time": "2022-02-22T16:09:48.514615Z",
     "start_time": "2022-02-22T16:09:44.966Z"
    }
   },
   "outputs": [],
   "source": [
    "# view accuracy\n",
    "from sklearn.metrics import accuracy_score\n",
    "accuracy=accuracy_score(y_pred, y_test)\n",
    "print('LightGBM Model accuracy score: {0:0.4f}'.format(accuracy_score(y_test, y_pred)))"
   ]
  },
  {
   "cell_type": "code",
   "execution_count": null,
   "metadata": {
    "ExecuteTime": {
     "end_time": "2022-02-22T16:09:48.519615Z",
     "start_time": "2022-02-22T16:09:44.970Z"
    }
   },
   "outputs": [],
   "source": [
    "# print the scores on training and test set\n",
    "\n",
    "print('Training set score: {:.4f}'.format(clf.score(X_train, y_train)))\n",
    "print('Test set score: {:.4f}'.format(clf.score(X_test, y_test)))"
   ]
  },
  {
   "cell_type": "markdown",
   "metadata": {},
   "source": [
    "## Early Stopping"
   ]
  },
  {
   "cell_type": "code",
   "execution_count": null,
   "metadata": {
    "ExecuteTime": {
     "end_time": "2022-02-22T16:09:48.525623Z",
     "start_time": "2022-02-22T16:09:45.660Z"
    }
   },
   "outputs": [],
   "source": [
    "clf.fit(X_train, y_train,\n",
    "                eval_set=[(X_train, y_train), (X_val, y_val)],\n",
    "                early_stopping_rounds=5)"
   ]
  },
  {
   "cell_type": "code",
   "execution_count": null,
   "metadata": {
    "ExecuteTime": {
     "end_time": "2022-02-22T16:09:48.531615Z",
     "start_time": "2022-02-22T16:09:45.665Z"
    }
   },
   "outputs": [],
   "source": [
    "results = clf.evals_result()\n",
    "\n",
    "plt.figure(figsize=(10,7))\n",
    "plt.plot(results[\"validation_0\"][\"rmse\"], label=\"Training loss\")\n",
    "plt.plot(results[\"validation_1\"][\"rmse\"], label=\"Validation loss\")\n",
    "plt.axvline(xgb_reg.best_ntree_limit, color=\"gray\", label=\"Optimal tree number\")\n",
    "plt.xlabel(\"Number of trees\")\n",
    "plt.ylabel(\"Loss\")\n",
    "plt.legend()"
   ]
  },
  {
   "cell_type": "markdown",
   "metadata": {},
   "source": [
    "# CatBoost"
   ]
  },
  {
   "cell_type": "markdown",
   "metadata": {},
   "source": [
    "Should be very good when many categorical features are at hand."
   ]
  },
  {
   "cell_type": "markdown",
   "metadata": {},
   "source": [
    "Read the docs: https://catboost.ai/docs/"
   ]
  },
  {
   "cell_type": "markdown",
   "metadata": {},
   "source": [
    "## Classification Example"
   ]
  },
  {
   "cell_type": "code",
   "execution_count": 58,
   "metadata": {
    "ExecuteTime": {
     "end_time": "2022-02-22T16:09:49.722614Z",
     "start_time": "2022-02-22T16:09:49.375617Z"
    }
   },
   "outputs": [
    {
     "name": "stdout",
     "output_type": "stream",
     "text": [
      "0:\tlearn: 0.6594548\ttotal: 58.1ms\tremaining: 58.1ms\n",
      "1:\tlearn: 0.6288287\ttotal: 60.3ms\tremaining: 0us\n",
      "class =  [1 0 0 0 1 1 1 0 1 1 0 0 1 0 1 1 1 1 0 0 1 0 1 0 0 1 1 1 0 0 1 0 1 1 1 1 0\n",
      " 0 1 1 0 1 1 0 1 0 0 1 0 1 0 1 0 1 1 0 0 1 0 0 1 0 0 1 1 1 1 1 0 1 0 1 1 0\n",
      " 1 0 1 0 1 0 1 1 1 1 0 1 1 1 1 0 0 1 1 0 1 1 0 0 1 1]\n",
      "proba =  [[0.32463822 0.67536178]\n",
      " [0.51687888 0.48312112]\n",
      " [0.51687888 0.48312112]\n",
      " [0.51687888 0.48312112]\n",
      " [0.32463822 0.67536178]\n",
      " [0.35971046 0.64028954]\n",
      " [0.45903917 0.54096083]\n",
      " [0.51687888 0.48312112]\n",
      " [0.45903917 0.54096083]\n",
      " [0.49792619 0.50207381]\n",
      " [0.65381859 0.34618141]\n",
      " [0.51687888 0.48312112]\n",
      " [0.45903917 0.54096083]\n",
      " [0.65381859 0.34618141]\n",
      " [0.35971046 0.64028954]\n",
      " [0.35971046 0.64028954]\n",
      " [0.45903917 0.54096083]\n",
      " [0.47366537 0.52633463]\n",
      " [0.65381859 0.34618141]\n",
      " [0.51687888 0.48312112]\n",
      " [0.32463822 0.67536178]\n",
      " [0.65381859 0.34618141]\n",
      " [0.49792619 0.50207381]\n",
      " [0.51687888 0.48312112]\n",
      " [0.65381859 0.34618141]\n",
      " [0.32463822 0.67536178]\n",
      " [0.45903917 0.54096083]\n",
      " [0.45903917 0.54096083]\n",
      " [0.65381859 0.34618141]\n",
      " [0.65381859 0.34618141]\n",
      " [0.45903917 0.54096083]\n",
      " [0.65381859 0.34618141]\n",
      " [0.35971046 0.64028954]\n",
      " [0.35971046 0.64028954]\n",
      " [0.35971046 0.64028954]\n",
      " [0.45903917 0.54096083]\n",
      " [0.65381859 0.34618141]\n",
      " [0.51687888 0.48312112]\n",
      " [0.47366537 0.52633463]\n",
      " [0.45903917 0.54096083]\n",
      " [0.51687888 0.48312112]\n",
      " [0.35971046 0.64028954]\n",
      " [0.32463822 0.67536178]\n",
      " [0.51687888 0.48312112]\n",
      " [0.25994342 0.74005658]\n",
      " [0.65381859 0.34618141]\n",
      " [0.51687888 0.48312112]\n",
      " [0.35971046 0.64028954]\n",
      " [0.65381859 0.34618141]\n",
      " [0.49792619 0.50207381]\n",
      " [0.51687888 0.48312112]\n",
      " [0.45903917 0.54096083]\n",
      " [0.65381859 0.34618141]\n",
      " [0.45903917 0.54096083]\n",
      " [0.45903917 0.54096083]\n",
      " [0.51687888 0.48312112]\n",
      " [0.65381859 0.34618141]\n",
      " [0.32463822 0.67536178]\n",
      " [0.65381859 0.34618141]\n",
      " [0.51687888 0.48312112]\n",
      " [0.29103832 0.70896168]\n",
      " [0.65381859 0.34618141]\n",
      " [0.51550363 0.48449637]\n",
      " [0.33765501 0.66234499]\n",
      " [0.45903917 0.54096083]\n",
      " [0.4387629  0.5612371 ]\n",
      " [0.32463822 0.67536178]\n",
      " [0.49792619 0.50207381]\n",
      " [0.51687888 0.48312112]\n",
      " [0.49792619 0.50207381]\n",
      " [0.65381859 0.34618141]\n",
      " [0.32463822 0.67536178]\n",
      " [0.49792619 0.50207381]\n",
      " [0.51687888 0.48312112]\n",
      " [0.49792619 0.50207381]\n",
      " [0.65381859 0.34618141]\n",
      " [0.49792619 0.50207381]\n",
      " [0.51687888 0.48312112]\n",
      " [0.4387629  0.5612371 ]\n",
      " [0.65381859 0.34618141]\n",
      " [0.49792619 0.50207381]\n",
      " [0.27140866 0.72859134]\n",
      " [0.45903917 0.54096083]\n",
      " [0.49792619 0.50207381]\n",
      " [0.65381859 0.34618141]\n",
      " [0.32463822 0.67536178]\n",
      " [0.45903917 0.54096083]\n",
      " [0.33765501 0.66234499]\n",
      " [0.27140866 0.72859134]\n",
      " [0.65381859 0.34618141]\n",
      " [0.51550363 0.48449637]\n",
      " [0.32463822 0.67536178]\n",
      " [0.32463822 0.67536178]\n",
      " [0.65381859 0.34618141]\n",
      " [0.33765501 0.66234499]\n",
      " [0.45903917 0.54096083]\n",
      " [0.65381859 0.34618141]\n",
      " [0.65381859 0.34618141]\n",
      " [0.49792619 0.50207381]\n",
      " [0.47366537 0.52633463]]\n"
     ]
    }
   ],
   "source": [
    "import numpy as np\n",
    "from catboost import CatBoostClassifier, Pool\n",
    "\n",
    "# initialize data\n",
    "train_data = np.random.randint(0,\n",
    "                               100, \n",
    "                               size=(100, 10))\n",
    "\n",
    "train_labels = np.random.randint(0,\n",
    "                                 2,\n",
    "                                 size=(100))\n",
    "\n",
    "test_data = catboost_pool = Pool(train_data, \n",
    "                                 train_labels)\n",
    "\n",
    "model = CatBoostClassifier(iterations=2,\n",
    "                           depth=2,\n",
    "                           learning_rate=1,\n",
    "                           loss_function='Logloss',\n",
    "                           verbose=True)\n",
    "# train the model\n",
    "model.fit(train_data, train_labels)\n",
    "# make the prediction using the resulting model\n",
    "preds_class = model.predict(test_data)\n",
    "preds_proba = model.predict_proba(test_data)\n",
    "print(\"class = \", preds_class)\n",
    "print(\"proba = \", preds_proba)"
   ]
  },
  {
   "cell_type": "markdown",
   "metadata": {},
   "source": [
    "## Regression Example"
   ]
  },
  {
   "cell_type": "code",
   "execution_count": 59,
   "metadata": {
    "ExecuteTime": {
     "end_time": "2022-02-22T16:09:50.320616Z",
     "start_time": "2022-02-22T16:09:50.171622Z"
    }
   },
   "outputs": [
    {
     "name": "stdout",
     "output_type": "stream",
     "text": [
      "0:\tlearn: 269.8120977\ttotal: 10.9ms\tremaining: 10.9ms\n",
      "1:\tlearn: 264.0557106\ttotal: 22ms\tremaining: 0us\n",
      "[483.16542    483.16542    483.16542    483.16542    379.81286159\n",
      " 483.16542    483.16542    483.16542    483.16542    483.16542\n",
      " 483.16542    483.16542    483.16542    575.37720929 483.16542\n",
      " 575.37720929 483.16542    483.16542    575.37720929 483.16542\n",
      " 483.16542    483.16542    379.81286159 483.16542    483.16542\n",
      " 483.16542    575.37720929 483.16542    483.16542    483.16542\n",
      " 483.16542    483.16542    575.37720929 483.16542    620.33308183\n",
      " 483.16542    483.16542    483.16542    483.16542    483.16542\n",
      " 620.33308183 354.20558884 483.16542    483.16542    483.16542\n",
      " 483.16542    483.16542    483.16542    620.33308183 483.16542   ]\n"
     ]
    }
   ],
   "source": [
    "import numpy as np\n",
    "from catboost import Pool, CatBoostRegressor\n",
    "# initialize data\n",
    "train_data = np.random.randint(0, \n",
    "                               100, \n",
    "                               size=(100, 10))\n",
    "train_label = np.random.randint(0, \n",
    "                                1000, \n",
    "                                size=(100))\n",
    "test_data = np.random.randint(0, \n",
    "                              100, \n",
    "                              size=(50, 10))\n",
    "# initialize Pool\n",
    "train_pool = Pool(train_data, \n",
    "                  train_label, \n",
    "                  cat_features=[0,2,5])\n",
    "test_pool = Pool(test_data, \n",
    "                 cat_features=[0,2,5]) \n",
    "\n",
    "# specify the training parameters \n",
    "model = CatBoostRegressor(iterations=2, \n",
    "                          depth=2, \n",
    "                          learning_rate=1, \n",
    "                          loss_function='RMSE')\n",
    "#train the model\n",
    "model.fit(train_pool)\n",
    "# make the prediction using the resulting model\n",
    "preds = model.predict(test_pool)\n",
    "print(preds)"
   ]
  },
  {
   "cell_type": "markdown",
   "metadata": {},
   "source": [
    "# Stacking & Blending"
   ]
  },
  {
   "cell_type": "markdown",
   "metadata": {},
   "source": [
    "The last ensemble method we will discuss in this Jupyter notebook is called **stacking** (short for\n",
    "stacked generalization).\n",
    "\n",
    "It is based on a simple idea: instead of using trivial functions\n",
    "(such as hard voting) to aggregate the predictions of all predictors in an ensemble,\n",
    "we train a model to perform this aggregation. This final predictor is called a **blender**.\n",
    "\n",
    "To train a blender, a common approach is to use a hold-out set."
   ]
  },
  {
   "cell_type": "code",
   "execution_count": 60,
   "metadata": {
    "ExecuteTime": {
     "end_time": "2022-02-22T16:11:04.079898Z",
     "start_time": "2022-02-22T16:09:51.580618Z"
    }
   },
   "outputs": [],
   "source": [
    "try:\n",
    "    from sklearn.datasets import fetch_openml\n",
    "    mnist = fetch_openml('mnist_784', version=1)\n",
    "    mnist.target = mnist.target.astype(np.int64)\n",
    "except ImportError:\n",
    "    from sklearn.datasets import fetch_mldata\n",
    "    mnist = fetch_mldata('MNIST original')"
   ]
  },
  {
   "cell_type": "code",
   "execution_count": 61,
   "metadata": {
    "ExecuteTime": {
     "end_time": "2022-02-22T16:11:12.561917Z",
     "start_time": "2022-02-22T16:11:04.081899Z"
    }
   },
   "outputs": [
    {
     "data": {
      "text/plain": [
       "RandomForestClassifier(bootstrap=True, ccp_alpha=0.0, class_weight=None,\n",
       "                       criterion='gini', max_depth=None, max_features='auto',\n",
       "                       max_leaf_nodes=None, max_samples=None,\n",
       "                       min_impurity_decrease=0.0, min_impurity_split=None,\n",
       "                       min_samples_leaf=1, min_samples_split=2,\n",
       "                       min_weight_fraction_leaf=0.0, n_estimators=10,\n",
       "                       n_jobs=None, oob_score=False, random_state=42, verbose=0,\n",
       "                       warm_start=False)"
      ]
     },
     "execution_count": 61,
     "metadata": {},
     "output_type": "execute_result"
    }
   ],
   "source": [
    "from sklearn.ensemble import RandomForestClassifier\n",
    "rnd_clf = RandomForestClassifier(n_estimators=10, random_state=42)\n",
    "rnd_clf.fit(mnist[\"data\"], mnist[\"target\"])"
   ]
  },
  {
   "cell_type": "code",
   "execution_count": 62,
   "metadata": {
    "ExecuteTime": {
     "end_time": "2022-02-22T16:11:14.737926Z",
     "start_time": "2022-02-22T16:11:12.568918Z"
    }
   },
   "outputs": [],
   "source": [
    "X_train_val, X_test, y_train_val, y_test = train_test_split(\n",
    "    mnist.data, mnist.target, test_size=10000, random_state=42)\n",
    "X_train, X_val, y_train, y_val = train_test_split(\n",
    "    X_train_val, y_train_val, test_size=10000, random_state=42)"
   ]
  },
  {
   "cell_type": "code",
   "execution_count": 63,
   "metadata": {
    "ExecuteTime": {
     "end_time": "2022-02-22T16:11:14.755926Z",
     "start_time": "2022-02-22T16:11:14.741922Z"
    }
   },
   "outputs": [],
   "source": [
    "from sklearn.ensemble import RandomForestClassifier, ExtraTreesClassifier\n",
    "from sklearn.svm import LinearSVC\n",
    "from sklearn.neural_network import MLPClassifier"
   ]
  },
  {
   "cell_type": "code",
   "execution_count": 64,
   "metadata": {
    "ExecuteTime": {
     "end_time": "2022-02-22T16:11:14.772925Z",
     "start_time": "2022-02-22T16:11:14.758921Z"
    }
   },
   "outputs": [],
   "source": [
    "random_forest_clf = RandomForestClassifier(n_estimators=10, random_state=42)\n",
    "extra_trees_clf   = ExtraTreesClassifier(n_estimators=10, random_state=42)\n",
    "svm_clf           = LinearSVC(random_state=42)\n",
    "mlp_clf           = MLPClassifier(random_state=42)"
   ]
  },
  {
   "cell_type": "code",
   "execution_count": 65,
   "metadata": {
    "ExecuteTime": {
     "end_time": "2022-02-22T16:19:00.691293Z",
     "start_time": "2022-02-22T16:11:14.775925Z"
    }
   },
   "outputs": [
    {
     "name": "stdout",
     "output_type": "stream",
     "text": [
      "Training the RandomForestClassifier(bootstrap=True, ccp_alpha=0.0, class_weight=None,\n",
      "                       criterion='gini', max_depth=None, max_features='auto',\n",
      "                       max_leaf_nodes=None, max_samples=None,\n",
      "                       min_impurity_decrease=0.0, min_impurity_split=None,\n",
      "                       min_samples_leaf=1, min_samples_split=2,\n",
      "                       min_weight_fraction_leaf=0.0, n_estimators=10,\n",
      "                       n_jobs=None, oob_score=False, random_state=42, verbose=0,\n",
      "                       warm_start=False)\n",
      "Training the ExtraTreesClassifier(bootstrap=False, ccp_alpha=0.0, class_weight=None,\n",
      "                     criterion='gini', max_depth=None, max_features='auto',\n",
      "                     max_leaf_nodes=None, max_samples=None,\n",
      "                     min_impurity_decrease=0.0, min_impurity_split=None,\n",
      "                     min_samples_leaf=1, min_samples_split=2,\n",
      "                     min_weight_fraction_leaf=0.0, n_estimators=10, n_jobs=None,\n",
      "                     oob_score=False, random_state=42, verbose=0,\n",
      "                     warm_start=False)\n",
      "Training the LinearSVC(C=1.0, class_weight=None, dual=True, fit_intercept=True,\n",
      "          intercept_scaling=1, loss='squared_hinge', max_iter=1000,\n",
      "          multi_class='ovr', penalty='l2', random_state=42, tol=0.0001,\n",
      "          verbose=0)\n",
      "Training the MLPClassifier(activation='relu', alpha=0.0001, batch_size='auto', beta_1=0.9,\n",
      "              beta_2=0.999, early_stopping=False, epsilon=1e-08,\n",
      "              hidden_layer_sizes=(100,), learning_rate='constant',\n",
      "              learning_rate_init=0.001, max_fun=15000, max_iter=200,\n",
      "              momentum=0.9, n_iter_no_change=10, nesterovs_momentum=True,\n",
      "              power_t=0.5, random_state=42, shuffle=True, solver='adam',\n",
      "              tol=0.0001, validation_fraction=0.1, verbose=False,\n",
      "              warm_start=False)\n"
     ]
    }
   ],
   "source": [
    "estimators = [random_forest_clf, extra_trees_clf, svm_clf, mlp_clf]\n",
    "for estimator in estimators:\n",
    "    print(\"Training the\", estimator)\n",
    "    estimator.fit(X_train, y_train)"
   ]
  },
  {
   "cell_type": "markdown",
   "metadata": {},
   "source": [
    "## Use a voting classifier"
   ]
  },
  {
   "cell_type": "code",
   "execution_count": 66,
   "metadata": {
    "ExecuteTime": {
     "end_time": "2022-02-22T16:19:01.510296Z",
     "start_time": "2022-02-22T16:19:00.709294Z"
    }
   },
   "outputs": [
    {
     "data": {
      "text/plain": [
       "[0.9469, 0.9492, 0.8626, 0.9626]"
      ]
     },
     "execution_count": 66,
     "metadata": {},
     "output_type": "execute_result"
    }
   ],
   "source": [
    "[estimator.score(X_val, y_val) for estimator in estimators]"
   ]
  },
  {
   "cell_type": "code",
   "execution_count": 67,
   "metadata": {
    "ExecuteTime": {
     "end_time": "2022-02-22T16:19:01.530291Z",
     "start_time": "2022-02-22T16:19:01.525298Z"
    }
   },
   "outputs": [],
   "source": [
    "from sklearn.ensemble import VotingClassifier"
   ]
  },
  {
   "cell_type": "code",
   "execution_count": 68,
   "metadata": {
    "ExecuteTime": {
     "end_time": "2022-02-22T16:19:01.551291Z",
     "start_time": "2022-02-22T16:19:01.542291Z"
    }
   },
   "outputs": [],
   "source": [
    "named_estimators = [\n",
    "    (\"random_forest_clf\", random_forest_clf),\n",
    "    (\"extra_trees_clf\", extra_trees_clf),\n",
    "    (\"svm_clf\", svm_clf),\n",
    "    (\"mlp_clf\", mlp_clf),\n",
    "]"
   ]
  },
  {
   "cell_type": "code",
   "execution_count": 69,
   "metadata": {
    "ExecuteTime": {
     "end_time": "2022-02-22T16:19:01.571292Z",
     "start_time": "2022-02-22T16:19:01.562288Z"
    }
   },
   "outputs": [],
   "source": [
    "voting_clf = VotingClassifier(named_estimators)"
   ]
  },
  {
   "cell_type": "code",
   "execution_count": 70,
   "metadata": {
    "ExecuteTime": {
     "end_time": "2022-02-22T16:26:28.067457Z",
     "start_time": "2022-02-22T16:19:01.580296Z"
    }
   },
   "outputs": [
    {
     "data": {
      "text/plain": [
       "VotingClassifier(estimators=[('random_forest_clf',\n",
       "                              RandomForestClassifier(bootstrap=True,\n",
       "                                                     ccp_alpha=0.0,\n",
       "                                                     class_weight=None,\n",
       "                                                     criterion='gini',\n",
       "                                                     max_depth=None,\n",
       "                                                     max_features='auto',\n",
       "                                                     max_leaf_nodes=None,\n",
       "                                                     max_samples=None,\n",
       "                                                     min_impurity_decrease=0.0,\n",
       "                                                     min_impurity_split=None,\n",
       "                                                     min_samples_leaf=1,\n",
       "                                                     min_samples_split=2,\n",
       "                                                     min_weight_fraction_leaf=0.0,\n",
       "                                                     n_estimators=10,\n",
       "                                                     n_jobs=...\n",
       "                                            epsilon=1e-08,\n",
       "                                            hidden_layer_sizes=(100,),\n",
       "                                            learning_rate='constant',\n",
       "                                            learning_rate_init=0.001,\n",
       "                                            max_fun=15000, max_iter=200,\n",
       "                                            momentum=0.9, n_iter_no_change=10,\n",
       "                                            nesterovs_momentum=True,\n",
       "                                            power_t=0.5, random_state=42,\n",
       "                                            shuffle=True, solver='adam',\n",
       "                                            tol=0.0001, validation_fraction=0.1,\n",
       "                                            verbose=False, warm_start=False))],\n",
       "                 flatten_transform=True, n_jobs=None, voting='hard',\n",
       "                 weights=None)"
      ]
     },
     "execution_count": 70,
     "metadata": {},
     "output_type": "execute_result"
    }
   ],
   "source": [
    "voting_clf.fit(X_train, y_train)"
   ]
  },
  {
   "cell_type": "code",
   "execution_count": 71,
   "metadata": {
    "ExecuteTime": {
     "end_time": "2022-02-22T16:26:28.846462Z",
     "start_time": "2022-02-22T16:26:28.076455Z"
    }
   },
   "outputs": [
    {
     "data": {
      "text/plain": [
       "0.9606"
      ]
     },
     "execution_count": 71,
     "metadata": {},
     "output_type": "execute_result"
    }
   ],
   "source": [
    "voting_clf.score(X_val, y_val)"
   ]
  },
  {
   "cell_type": "code",
   "execution_count": 72,
   "metadata": {
    "ExecuteTime": {
     "end_time": "2022-02-22T16:26:29.420458Z",
     "start_time": "2022-02-22T16:26:28.853457Z"
    }
   },
   "outputs": [
    {
     "data": {
      "text/plain": [
       "[0.9469, 0.9492, 0.8626, 0.9626]"
      ]
     },
     "execution_count": 72,
     "metadata": {},
     "output_type": "execute_result"
    }
   ],
   "source": [
    "[estimator.score(X_val, y_val) for estimator in voting_clf.estimators_]"
   ]
  },
  {
   "cell_type": "code",
   "execution_count": 73,
   "metadata": {
    "ExecuteTime": {
     "end_time": "2022-02-22T16:26:29.465467Z",
     "start_time": "2022-02-22T16:26:29.427468Z"
    }
   },
   "outputs": [
    {
     "data": {
      "text/plain": [
       "VotingClassifier(estimators=[('random_forest_clf',\n",
       "                              RandomForestClassifier(bootstrap=True,\n",
       "                                                     ccp_alpha=0.0,\n",
       "                                                     class_weight=None,\n",
       "                                                     criterion='gini',\n",
       "                                                     max_depth=None,\n",
       "                                                     max_features='auto',\n",
       "                                                     max_leaf_nodes=None,\n",
       "                                                     max_samples=None,\n",
       "                                                     min_impurity_decrease=0.0,\n",
       "                                                     min_impurity_split=None,\n",
       "                                                     min_samples_leaf=1,\n",
       "                                                     min_samples_split=2,\n",
       "                                                     min_weight_fraction_leaf=0.0,\n",
       "                                                     n_estimators=10,\n",
       "                                                     n_jobs=...\n",
       "                                            epsilon=1e-08,\n",
       "                                            hidden_layer_sizes=(100,),\n",
       "                                            learning_rate='constant',\n",
       "                                            learning_rate_init=0.001,\n",
       "                                            max_fun=15000, max_iter=200,\n",
       "                                            momentum=0.9, n_iter_no_change=10,\n",
       "                                            nesterovs_momentum=True,\n",
       "                                            power_t=0.5, random_state=42,\n",
       "                                            shuffle=True, solver='adam',\n",
       "                                            tol=0.0001, validation_fraction=0.1,\n",
       "                                            verbose=False, warm_start=False))],\n",
       "                 flatten_transform=True, n_jobs=None, voting='hard',\n",
       "                 weights=None)"
      ]
     },
     "execution_count": 73,
     "metadata": {},
     "output_type": "execute_result"
    }
   ],
   "source": [
    "voting_clf.set_params(svm_clf=None)"
   ]
  },
  {
   "cell_type": "code",
   "execution_count": 74,
   "metadata": {
    "ExecuteTime": {
     "end_time": "2022-02-22T16:26:29.496460Z",
     "start_time": "2022-02-22T16:26:29.471459Z"
    }
   },
   "outputs": [
    {
     "data": {
      "text/plain": [
       "[('random_forest_clf',\n",
       "  RandomForestClassifier(bootstrap=True, ccp_alpha=0.0, class_weight=None,\n",
       "                         criterion='gini', max_depth=None, max_features='auto',\n",
       "                         max_leaf_nodes=None, max_samples=None,\n",
       "                         min_impurity_decrease=0.0, min_impurity_split=None,\n",
       "                         min_samples_leaf=1, min_samples_split=2,\n",
       "                         min_weight_fraction_leaf=0.0, n_estimators=10,\n",
       "                         n_jobs=None, oob_score=False, random_state=42, verbose=0,\n",
       "                         warm_start=False)),\n",
       " ('extra_trees_clf',\n",
       "  ExtraTreesClassifier(bootstrap=False, ccp_alpha=0.0, class_weight=None,\n",
       "                       criterion='gini', max_depth=None, max_features='auto',\n",
       "                       max_leaf_nodes=None, max_samples=None,\n",
       "                       min_impurity_decrease=0.0, min_impurity_split=None,\n",
       "                       min_samples_leaf=1, min_samples_split=2,\n",
       "                       min_weight_fraction_leaf=0.0, n_estimators=10, n_jobs=None,\n",
       "                       oob_score=False, random_state=42, verbose=0,\n",
       "                       warm_start=False)),\n",
       " ('svm_clf', None),\n",
       " ('mlp_clf',\n",
       "  MLPClassifier(activation='relu', alpha=0.0001, batch_size='auto', beta_1=0.9,\n",
       "                beta_2=0.999, early_stopping=False, epsilon=1e-08,\n",
       "                hidden_layer_sizes=(100,), learning_rate='constant',\n",
       "                learning_rate_init=0.001, max_fun=15000, max_iter=200,\n",
       "                momentum=0.9, n_iter_no_change=10, nesterovs_momentum=True,\n",
       "                power_t=0.5, random_state=42, shuffle=True, solver='adam',\n",
       "                tol=0.0001, validation_fraction=0.1, verbose=False,\n",
       "                warm_start=False))]"
      ]
     },
     "execution_count": 74,
     "metadata": {},
     "output_type": "execute_result"
    }
   ],
   "source": [
    "voting_clf.estimators"
   ]
  },
  {
   "cell_type": "markdown",
   "metadata": {},
   "source": [
    "## Stacking"
   ]
  },
  {
   "cell_type": "code",
   "execution_count": 75,
   "metadata": {
    "ExecuteTime": {
     "end_time": "2022-02-22T16:26:29.925460Z",
     "start_time": "2022-02-22T16:26:29.502461Z"
    }
   },
   "outputs": [],
   "source": [
    "X_val_predictions = np.empty((len(X_val), len(estimators)), dtype=np.float32)\n",
    "\n",
    "for index, estimator in enumerate(estimators):\n",
    "    X_val_predictions[:, index] = estimator.predict(X_val)"
   ]
  },
  {
   "cell_type": "code",
   "execution_count": 76,
   "metadata": {
    "ExecuteTime": {
     "end_time": "2022-02-22T16:26:29.954466Z",
     "start_time": "2022-02-22T16:26:29.934458Z"
    }
   },
   "outputs": [
    {
     "data": {
      "text/plain": [
       "array([[5., 5., 5., 5.],\n",
       "       [8., 8., 8., 8.],\n",
       "       [2., 2., 2., 2.],\n",
       "       ...,\n",
       "       [7., 7., 7., 7.],\n",
       "       [6., 6., 6., 6.],\n",
       "       [7., 7., 7., 7.]], dtype=float32)"
      ]
     },
     "execution_count": 76,
     "metadata": {},
     "output_type": "execute_result"
    }
   ],
   "source": [
    "X_val_predictions"
   ]
  },
  {
   "cell_type": "code",
   "execution_count": 77,
   "metadata": {
    "ExecuteTime": {
     "end_time": "2022-02-22T16:26:32.387466Z",
     "start_time": "2022-02-22T16:26:29.963459Z"
    }
   },
   "outputs": [
    {
     "data": {
      "text/plain": [
       "RandomForestClassifier(bootstrap=True, ccp_alpha=0.0, class_weight=None,\n",
       "                       criterion='gini', max_depth=None, max_features='auto',\n",
       "                       max_leaf_nodes=None, max_samples=None,\n",
       "                       min_impurity_decrease=0.0, min_impurity_split=None,\n",
       "                       min_samples_leaf=1, min_samples_split=2,\n",
       "                       min_weight_fraction_leaf=0.0, n_estimators=200,\n",
       "                       n_jobs=None, oob_score=True, random_state=42, verbose=0,\n",
       "                       warm_start=False)"
      ]
     },
     "execution_count": 77,
     "metadata": {},
     "output_type": "execute_result"
    }
   ],
   "source": [
    "rnd_forest_blender = RandomForestClassifier(n_estimators=200, oob_score=True, random_state=42)\n",
    "rnd_forest_blender.fit(X_val_predictions, y_val)"
   ]
  },
  {
   "cell_type": "code",
   "execution_count": 78,
   "metadata": {
    "ExecuteTime": {
     "end_time": "2022-02-22T16:26:32.401466Z",
     "start_time": "2022-02-22T16:26:32.391463Z"
    }
   },
   "outputs": [
    {
     "data": {
      "text/plain": [
       "0.9613"
      ]
     },
     "execution_count": 78,
     "metadata": {},
     "output_type": "execute_result"
    }
   ],
   "source": [
    "rnd_forest_blender.oob_score_"
   ]
  },
  {
   "cell_type": "markdown",
   "metadata": {},
   "source": [
    "You could fine-tune this blender or try other types of blenders (e.g., an `MLPClassifier`), then select the best one using cross-validation, as always."
   ]
  },
  {
   "cell_type": "markdown",
   "metadata": {
    "ExecuteTime": {
     "end_time": "2021-07-06T15:55:39.808721Z",
     "start_time": "2021-07-06T15:55:39.803720Z"
    }
   },
   "source": [
    "We have just trained a blender, and together with the classifiers they form a stacking ensemble! Now let's evaluate the ensemble on the test set. For each image in the test set, make predictions with all your classifiers, then feed the predictions to the blender to get the ensemble's predictions. How does it compare to the voting classifier we trained earlier?"
   ]
  },
  {
   "cell_type": "code",
   "execution_count": 79,
   "metadata": {
    "ExecuteTime": {
     "end_time": "2022-02-22T16:26:32.896460Z",
     "start_time": "2022-02-22T16:26:32.405460Z"
    }
   },
   "outputs": [],
   "source": [
    "X_test_predictions = np.empty((len(X_test), len(estimators)), dtype=np.float32)\n",
    "\n",
    "for index, estimator in enumerate(estimators):\n",
    "    X_test_predictions[:, index] = estimator.predict(X_test)"
   ]
  },
  {
   "cell_type": "code",
   "execution_count": 80,
   "metadata": {
    "ExecuteTime": {
     "end_time": "2022-02-22T16:26:33.439460Z",
     "start_time": "2022-02-22T16:26:32.900461Z"
    }
   },
   "outputs": [],
   "source": [
    "y_pred = rnd_forest_blender.predict(X_test_predictions)"
   ]
  },
  {
   "cell_type": "code",
   "execution_count": 81,
   "metadata": {
    "ExecuteTime": {
     "end_time": "2022-02-22T16:26:33.447462Z",
     "start_time": "2022-02-22T16:26:33.442462Z"
    }
   },
   "outputs": [],
   "source": [
    "from sklearn.metrics import accuracy_score"
   ]
  },
  {
   "cell_type": "code",
   "execution_count": 82,
   "metadata": {
    "ExecuteTime": {
     "end_time": "2022-02-22T16:26:33.475459Z",
     "start_time": "2022-02-22T16:26:33.454466Z"
    }
   },
   "outputs": [
    {
     "data": {
      "text/plain": [
       "0.9617"
      ]
     },
     "execution_count": 82,
     "metadata": {},
     "output_type": "execute_result"
    }
   ],
   "source": [
    "accuracy_score(y_test, y_pred)"
   ]
  },
  {
   "cell_type": "markdown",
   "metadata": {},
   "source": [
    "This stacking ensemble does not perform as well as the soft voting classifier we trained earlier, it's just as good as the best individual classifier."
   ]
  }
 ],
 "metadata": {
  "hide_input": false,
  "kernelspec": {
   "display_name": "Python 3",
   "language": "python",
   "name": "python3"
  },
  "latex_envs": {
   "LaTeX_envs_menu_present": true,
   "autoclose": false,
   "autocomplete": true,
   "bibliofile": "biblio.bib",
   "cite_by": "apalike",
   "current_citInitial": 1,
   "eqLabelWithNumbers": true,
   "eqNumInitial": 1,
   "hotkeys": {
    "equation": "Ctrl-E",
    "itemize": "Ctrl-I"
   },
   "labels_anchors": false,
   "latex_user_defs": false,
   "report_style_numbering": false,
   "user_envs_cfg": false
  },
  "toc": {
   "base_numbering": 1,
   "nav_menu": {},
   "number_sections": true,
   "sideBar": true,
   "skip_h1_title": false,
   "title_cell": "Table of Contents",
   "title_sidebar": "Contents",
   "toc_cell": false,
   "toc_position": {
    "height": "calc(100% - 180px)",
    "left": "10px",
    "top": "150px",
    "width": "238.667px"
   },
   "toc_section_display": true,
   "toc_window_display": true
  }
 },
 "nbformat": 4,
 "nbformat_minor": 4
}
